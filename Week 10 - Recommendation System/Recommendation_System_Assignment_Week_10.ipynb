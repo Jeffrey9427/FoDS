{
  "nbformat": 4,
  "nbformat_minor": 0,
  "metadata": {
    "colab": {
      "provenance": []
    },
    "kernelspec": {
      "name": "python3",
      "display_name": "Python 3"
    },
    "language_info": {
      "name": "python"
    }
  },
  "cells": [
    {
      "cell_type": "markdown",
      "source": [
        "#### **USER BASED RECOMMENDATION SYSTEM**\n",
        "\n",
        "Jeffrey (2602118484)\n",
        "\n",
        "Steps in a user-based recommendation system:\n",
        "\n",
        "1. Select a user with the movies the user has watched\n",
        "2. Based on his rating to movies, find the top x neighbours\n",
        "3. Get the watched movie record of the user for each neighbour.\n",
        "4. Calculate a similarity score using some formula\n",
        "5. Recommend the items with the highest score"
      ],
      "metadata": {
        "id": "U4qJzamLmNRA"
      }
    },
    {
      "cell_type": "code",
      "execution_count": 142,
      "metadata": {
        "id": "ULLYAQTflamF"
      },
      "outputs": [],
      "source": [
        "import pandas as pd\n",
        "from math import sqrt\n",
        "import numpy as np"
      ]
    },
    {
      "cell_type": "code",
      "source": [
        "ratings = pd.read_csv('ratings.csv')\n",
        "print(ratings.info())"
      ],
      "metadata": {
        "colab": {
          "base_uri": "https://localhost:8080/"
        },
        "id": "HexH0pkp0e0M",
        "outputId": "02ec2c89-cd56-4a48-e91a-b39391918075"
      },
      "execution_count": 143,
      "outputs": [
        {
          "output_type": "stream",
          "name": "stdout",
          "text": [
            "<class 'pandas.core.frame.DataFrame'>\n",
            "RangeIndex: 5976479 entries, 0 to 5976478\n",
            "Data columns (total 3 columns):\n",
            " #   Column   Dtype\n",
            "---  ------   -----\n",
            " 0   user_id  int64\n",
            " 1   book_id  int64\n",
            " 2   rating   int64\n",
            "dtypes: int64(3)\n",
            "memory usage: 136.8 MB\n",
            "None\n"
          ]
        }
      ]
    },
    {
      "cell_type": "code",
      "source": [
        "ratings.head()"
      ],
      "metadata": {
        "colab": {
          "base_uri": "https://localhost:8080/",
          "height": 206
        },
        "id": "lD168dpOFPC0",
        "outputId": "c6d086e1-fb19-4eb5-a067-e606fd546942"
      },
      "execution_count": 144,
      "outputs": [
        {
          "output_type": "execute_result",
          "data": {
            "text/plain": [
              "   user_id  book_id  rating\n",
              "0        1      258       5\n",
              "1        2     4081       4\n",
              "2        2      260       5\n",
              "3        2     9296       5\n",
              "4        2     2318       3"
            ],
            "text/html": [
              "\n",
              "  <div id=\"df-a1ed8bde-dfff-4f7a-be2a-fbb0d2f3ebfd\" class=\"colab-df-container\">\n",
              "    <div>\n",
              "<style scoped>\n",
              "    .dataframe tbody tr th:only-of-type {\n",
              "        vertical-align: middle;\n",
              "    }\n",
              "\n",
              "    .dataframe tbody tr th {\n",
              "        vertical-align: top;\n",
              "    }\n",
              "\n",
              "    .dataframe thead th {\n",
              "        text-align: right;\n",
              "    }\n",
              "</style>\n",
              "<table border=\"1\" class=\"dataframe\">\n",
              "  <thead>\n",
              "    <tr style=\"text-align: right;\">\n",
              "      <th></th>\n",
              "      <th>user_id</th>\n",
              "      <th>book_id</th>\n",
              "      <th>rating</th>\n",
              "    </tr>\n",
              "  </thead>\n",
              "  <tbody>\n",
              "    <tr>\n",
              "      <th>0</th>\n",
              "      <td>1</td>\n",
              "      <td>258</td>\n",
              "      <td>5</td>\n",
              "    </tr>\n",
              "    <tr>\n",
              "      <th>1</th>\n",
              "      <td>2</td>\n",
              "      <td>4081</td>\n",
              "      <td>4</td>\n",
              "    </tr>\n",
              "    <tr>\n",
              "      <th>2</th>\n",
              "      <td>2</td>\n",
              "      <td>260</td>\n",
              "      <td>5</td>\n",
              "    </tr>\n",
              "    <tr>\n",
              "      <th>3</th>\n",
              "      <td>2</td>\n",
              "      <td>9296</td>\n",
              "      <td>5</td>\n",
              "    </tr>\n",
              "    <tr>\n",
              "      <th>4</th>\n",
              "      <td>2</td>\n",
              "      <td>2318</td>\n",
              "      <td>3</td>\n",
              "    </tr>\n",
              "  </tbody>\n",
              "</table>\n",
              "</div>\n",
              "    <div class=\"colab-df-buttons\">\n",
              "\n",
              "  <div class=\"colab-df-container\">\n",
              "    <button class=\"colab-df-convert\" onclick=\"convertToInteractive('df-a1ed8bde-dfff-4f7a-be2a-fbb0d2f3ebfd')\"\n",
              "            title=\"Convert this dataframe to an interactive table.\"\n",
              "            style=\"display:none;\">\n",
              "\n",
              "  <svg xmlns=\"http://www.w3.org/2000/svg\" height=\"24px\" viewBox=\"0 -960 960 960\">\n",
              "    <path d=\"M120-120v-720h720v720H120Zm60-500h600v-160H180v160Zm220 220h160v-160H400v160Zm0 220h160v-160H400v160ZM180-400h160v-160H180v160Zm440 0h160v-160H620v160ZM180-180h160v-160H180v160Zm440 0h160v-160H620v160Z\"/>\n",
              "  </svg>\n",
              "    </button>\n",
              "\n",
              "  <style>\n",
              "    .colab-df-container {\n",
              "      display:flex;\n",
              "      gap: 12px;\n",
              "    }\n",
              "\n",
              "    .colab-df-convert {\n",
              "      background-color: #E8F0FE;\n",
              "      border: none;\n",
              "      border-radius: 50%;\n",
              "      cursor: pointer;\n",
              "      display: none;\n",
              "      fill: #1967D2;\n",
              "      height: 32px;\n",
              "      padding: 0 0 0 0;\n",
              "      width: 32px;\n",
              "    }\n",
              "\n",
              "    .colab-df-convert:hover {\n",
              "      background-color: #E2EBFA;\n",
              "      box-shadow: 0px 1px 2px rgba(60, 64, 67, 0.3), 0px 1px 3px 1px rgba(60, 64, 67, 0.15);\n",
              "      fill: #174EA6;\n",
              "    }\n",
              "\n",
              "    .colab-df-buttons div {\n",
              "      margin-bottom: 4px;\n",
              "    }\n",
              "\n",
              "    [theme=dark] .colab-df-convert {\n",
              "      background-color: #3B4455;\n",
              "      fill: #D2E3FC;\n",
              "    }\n",
              "\n",
              "    [theme=dark] .colab-df-convert:hover {\n",
              "      background-color: #434B5C;\n",
              "      box-shadow: 0px 1px 3px 1px rgba(0, 0, 0, 0.15);\n",
              "      filter: drop-shadow(0px 1px 2px rgba(0, 0, 0, 0.3));\n",
              "      fill: #FFFFFF;\n",
              "    }\n",
              "  </style>\n",
              "\n",
              "    <script>\n",
              "      const buttonEl =\n",
              "        document.querySelector('#df-a1ed8bde-dfff-4f7a-be2a-fbb0d2f3ebfd button.colab-df-convert');\n",
              "      buttonEl.style.display =\n",
              "        google.colab.kernel.accessAllowed ? 'block' : 'none';\n",
              "\n",
              "      async function convertToInteractive(key) {\n",
              "        const element = document.querySelector('#df-a1ed8bde-dfff-4f7a-be2a-fbb0d2f3ebfd');\n",
              "        const dataTable =\n",
              "          await google.colab.kernel.invokeFunction('convertToInteractive',\n",
              "                                                    [key], {});\n",
              "        if (!dataTable) return;\n",
              "\n",
              "        const docLinkHtml = 'Like what you see? Visit the ' +\n",
              "          '<a target=\"_blank\" href=https://colab.research.google.com/notebooks/data_table.ipynb>data table notebook</a>'\n",
              "          + ' to learn more about interactive tables.';\n",
              "        element.innerHTML = '';\n",
              "        dataTable['output_type'] = 'display_data';\n",
              "        await google.colab.output.renderOutput(dataTable, element);\n",
              "        const docLink = document.createElement('div');\n",
              "        docLink.innerHTML = docLinkHtml;\n",
              "        element.appendChild(docLink);\n",
              "      }\n",
              "    </script>\n",
              "  </div>\n",
              "\n",
              "\n",
              "<div id=\"df-921ddc85-e6e5-4e65-89c0-22941fa56874\">\n",
              "  <button class=\"colab-df-quickchart\" onclick=\"quickchart('df-921ddc85-e6e5-4e65-89c0-22941fa56874')\"\n",
              "            title=\"Suggest charts\"\n",
              "            style=\"display:none;\">\n",
              "\n",
              "<svg xmlns=\"http://www.w3.org/2000/svg\" height=\"24px\"viewBox=\"0 0 24 24\"\n",
              "     width=\"24px\">\n",
              "    <g>\n",
              "        <path d=\"M19 3H5c-1.1 0-2 .9-2 2v14c0 1.1.9 2 2 2h14c1.1 0 2-.9 2-2V5c0-1.1-.9-2-2-2zM9 17H7v-7h2v7zm4 0h-2V7h2v10zm4 0h-2v-4h2v4z\"/>\n",
              "    </g>\n",
              "</svg>\n",
              "  </button>\n",
              "\n",
              "<style>\n",
              "  .colab-df-quickchart {\n",
              "      --bg-color: #E8F0FE;\n",
              "      --fill-color: #1967D2;\n",
              "      --hover-bg-color: #E2EBFA;\n",
              "      --hover-fill-color: #174EA6;\n",
              "      --disabled-fill-color: #AAA;\n",
              "      --disabled-bg-color: #DDD;\n",
              "  }\n",
              "\n",
              "  [theme=dark] .colab-df-quickchart {\n",
              "      --bg-color: #3B4455;\n",
              "      --fill-color: #D2E3FC;\n",
              "      --hover-bg-color: #434B5C;\n",
              "      --hover-fill-color: #FFFFFF;\n",
              "      --disabled-bg-color: #3B4455;\n",
              "      --disabled-fill-color: #666;\n",
              "  }\n",
              "\n",
              "  .colab-df-quickchart {\n",
              "    background-color: var(--bg-color);\n",
              "    border: none;\n",
              "    border-radius: 50%;\n",
              "    cursor: pointer;\n",
              "    display: none;\n",
              "    fill: var(--fill-color);\n",
              "    height: 32px;\n",
              "    padding: 0;\n",
              "    width: 32px;\n",
              "  }\n",
              "\n",
              "  .colab-df-quickchart:hover {\n",
              "    background-color: var(--hover-bg-color);\n",
              "    box-shadow: 0 1px 2px rgba(60, 64, 67, 0.3), 0 1px 3px 1px rgba(60, 64, 67, 0.15);\n",
              "    fill: var(--button-hover-fill-color);\n",
              "  }\n",
              "\n",
              "  .colab-df-quickchart-complete:disabled,\n",
              "  .colab-df-quickchart-complete:disabled:hover {\n",
              "    background-color: var(--disabled-bg-color);\n",
              "    fill: var(--disabled-fill-color);\n",
              "    box-shadow: none;\n",
              "  }\n",
              "\n",
              "  .colab-df-spinner {\n",
              "    border: 2px solid var(--fill-color);\n",
              "    border-color: transparent;\n",
              "    border-bottom-color: var(--fill-color);\n",
              "    animation:\n",
              "      spin 1s steps(1) infinite;\n",
              "  }\n",
              "\n",
              "  @keyframes spin {\n",
              "    0% {\n",
              "      border-color: transparent;\n",
              "      border-bottom-color: var(--fill-color);\n",
              "      border-left-color: var(--fill-color);\n",
              "    }\n",
              "    20% {\n",
              "      border-color: transparent;\n",
              "      border-left-color: var(--fill-color);\n",
              "      border-top-color: var(--fill-color);\n",
              "    }\n",
              "    30% {\n",
              "      border-color: transparent;\n",
              "      border-left-color: var(--fill-color);\n",
              "      border-top-color: var(--fill-color);\n",
              "      border-right-color: var(--fill-color);\n",
              "    }\n",
              "    40% {\n",
              "      border-color: transparent;\n",
              "      border-right-color: var(--fill-color);\n",
              "      border-top-color: var(--fill-color);\n",
              "    }\n",
              "    60% {\n",
              "      border-color: transparent;\n",
              "      border-right-color: var(--fill-color);\n",
              "    }\n",
              "    80% {\n",
              "      border-color: transparent;\n",
              "      border-right-color: var(--fill-color);\n",
              "      border-bottom-color: var(--fill-color);\n",
              "    }\n",
              "    90% {\n",
              "      border-color: transparent;\n",
              "      border-bottom-color: var(--fill-color);\n",
              "    }\n",
              "  }\n",
              "</style>\n",
              "\n",
              "  <script>\n",
              "    async function quickchart(key) {\n",
              "      const quickchartButtonEl =\n",
              "        document.querySelector('#' + key + ' button');\n",
              "      quickchartButtonEl.disabled = true;  // To prevent multiple clicks.\n",
              "      quickchartButtonEl.classList.add('colab-df-spinner');\n",
              "      try {\n",
              "        const charts = await google.colab.kernel.invokeFunction(\n",
              "            'suggestCharts', [key], {});\n",
              "      } catch (error) {\n",
              "        console.error('Error during call to suggestCharts:', error);\n",
              "      }\n",
              "      quickchartButtonEl.classList.remove('colab-df-spinner');\n",
              "      quickchartButtonEl.classList.add('colab-df-quickchart-complete');\n",
              "    }\n",
              "    (() => {\n",
              "      let quickchartButtonEl =\n",
              "        document.querySelector('#df-921ddc85-e6e5-4e65-89c0-22941fa56874 button');\n",
              "      quickchartButtonEl.style.display =\n",
              "        google.colab.kernel.accessAllowed ? 'block' : 'none';\n",
              "    })();\n",
              "  </script>\n",
              "</div>\n",
              "    </div>\n",
              "  </div>\n"
            ]
          },
          "metadata": {},
          "execution_count": 144
        }
      ]
    },
    {
      "cell_type": "code",
      "source": [
        "books = pd.read_csv('goodbooks_10k_rating_and_description.csv')\n",
        "print(books.info())"
      ],
      "metadata": {
        "colab": {
          "base_uri": "https://localhost:8080/"
        },
        "id": "LwY3SvfcFT99",
        "outputId": "44197ad4-4b27-41d3-fa52-464d1100658b"
      },
      "execution_count": 145,
      "outputs": [
        {
          "output_type": "stream",
          "name": "stdout",
          "text": [
            "<class 'pandas.core.frame.DataFrame'>\n",
            "RangeIndex: 9794 entries, 0 to 9793\n",
            "Data columns (total 35 columns):\n",
            " #   Column                     Non-Null Count  Dtype  \n",
            "---  ------                     --------------  -----  \n",
            " 0   book_id                    9794 non-null   int64  \n",
            " 1   book_title                 9794 non-null   object \n",
            " 2   book_series                9794 non-null   object \n",
            " 3   title                      9794 non-null   object \n",
            " 4   book_authors               9794 non-null   object \n",
            " 5   genres                     5037 non-null   object \n",
            " 6   book_score                 9794 non-null   float64\n",
            " 7   book_rating                9794 non-null   float64\n",
            " 8   book_rating_obj            9794 non-null   float64\n",
            " 9   book_rating_count          9794 non-null   int64  \n",
            " 10  book_review_count          9794 non-null   int64  \n",
            " 11  book_desc                  5028 non-null   object \n",
            " 12  tags                       9794 non-null   object \n",
            " 13  FE_text                    9794 non-null   object \n",
            " 14  book_desc_tags_FE          9794 non-null   object \n",
            " 15  ratings_1                  9794 non-null   int64  \n",
            " 16  ratings_2                  9794 non-null   int64  \n",
            " 17  ratings_3                  9794 non-null   int64  \n",
            " 18  ratings_4                  9794 non-null   int64  \n",
            " 19  ratings_5                  9794 non-null   int64  \n",
            " 20  book_edition               532 non-null    object \n",
            " 21  book_format                5021 non-null   object \n",
            " 22  original_publication_year  9774 non-null   float64\n",
            " 23  language_code              8717 non-null   object \n",
            " 24  book_pages                 5032 non-null   float64\n",
            " 25  book_pages_obj             5032 non-null   float64\n",
            " 26  books_count                9794 non-null   int64  \n",
            " 27  books_count_obj            9794 non-null   float64\n",
            " 28  goodreads_book_id          9794 non-null   int64  \n",
            " 29  book_isbn                  4696 non-null   float64\n",
            " 30  isbn                       9171 non-null   object \n",
            " 31  isbn13                     9257 non-null   float64\n",
            " 32  image_url_x                9794 non-null   object \n",
            " 33  image_url_y                5037 non-null   object \n",
            " 34  small_image_url            9794 non-null   object \n",
            "dtypes: float64(9), int64(10), object(16)\n",
            "memory usage: 2.6+ MB\n",
            "None\n"
          ]
        }
      ]
    },
    {
      "cell_type": "code",
      "source": [
        "from random import sample\n",
        "\n",
        "sample(books['book_title'].to_list(), 5)"
      ],
      "metadata": {
        "colab": {
          "base_uri": "https://localhost:8080/"
        },
        "id": "gKMuGubQdK19",
        "outputId": "9dccd9c2-06a2-4a43-eae3-c0115397a98d"
      },
      "execution_count": 146,
      "outputs": [
        {
          "output_type": "execute_result",
          "data": {
            "text/plain": [
              "['Clockwork Angel',\n",
              " 'Covet',\n",
              " 'Austerlitz',\n",
              " 'Wicked - Piano/Vocal Arrangement',\n",
              " 'Kisscut']"
            ]
          },
          "metadata": {},
          "execution_count": 146
        }
      ]
    },
    {
      "cell_type": "code",
      "source": [
        "userInput = [{'book_title':'The Hunger Games', 'rating':1},\n",
        "             {'book_title':'Twilight', 'rating':5},\n",
        "             {'book_title':'Crush', 'rating':3},\n",
        "             {'book_title':'Boneshaker', 'rating':4},\n",
        "             {'book_title':'Prelude to Foundation', 'rating':3},\n",
        "             {'book_title':'Among the Hidden', 'rating':2},\n",
        "             {'book_title':'Absent in the Spring', 'rating':3},\n",
        "             {'book_title':'The Last Sin Eater', 'rating':5},\n",
        "             {'book_title':'Wicked Lovely', 'rating':5},\n",
        "             {'book_title':'Article 5', 'rating':3},\n",
        "             {'book_title':'To Challenge a Dragon', 'rating':2},\n",
        "             {'book_title':'I Too Had A Love Story', 'rating':1},\n",
        "             {'book_title':'You Know You Love Me', 'rating':3},\n",
        "             {'book_title':'Showdown by Ted Dekker Signature Edition', 'rating':4},\n",
        "             {'book_title':'Hark! A Vagrant', 'rating':3},\n",
        "             {'book_title':'Hope', 'rating':1},\n",
        "             {'book_title':'Reaper Man', 'rating':2},\n",
        "             {'book_title':'Anne of Green Gables', 'rating':5}\n",
        "             ]\n",
        "inputBooks = pd.DataFrame(userInput)\n",
        "print(inputBooks)"
      ],
      "metadata": {
        "colab": {
          "base_uri": "https://localhost:8080/"
        },
        "id": "VsSNJ6XTPLNB",
        "outputId": "7e080ba9-84bc-4766-aa1a-258118d3e244"
      },
      "execution_count": 147,
      "outputs": [
        {
          "output_type": "stream",
          "name": "stdout",
          "text": [
            "                                  book_title  rating\n",
            "0                           The Hunger Games       1\n",
            "1                                   Twilight       5\n",
            "2                                      Crush       3\n",
            "3                                 Boneshaker       4\n",
            "4                      Prelude to Foundation       3\n",
            "5                           Among the Hidden       2\n",
            "6                       Absent in the Spring       3\n",
            "7                         The Last Sin Eater       5\n",
            "8                              Wicked Lovely       5\n",
            "9                                  Article 5       3\n",
            "10                     To Challenge a Dragon       2\n",
            "11                    I Too Had A Love Story       1\n",
            "12                      You Know You Love Me       3\n",
            "13  Showdown by Ted Dekker Signature Edition       4\n",
            "14                           Hark! A Vagrant       3\n",
            "15                                      Hope       1\n",
            "16                                Reaper Man       2\n",
            "17                      Anne of Green Gables       5\n"
          ]
        }
      ]
    },
    {
      "cell_type": "markdown",
      "source": [
        "### **Find the book id from the books DataFrame and merge with the inputBooks**\n"
      ],
      "metadata": {
        "id": "iPVjkL2tUjrI"
      }
    },
    {
      "cell_type": "code",
      "source": [
        "inputId = books[books['book_title'].isin(inputBooks['book_title'].tolist())]\n",
        "inputBooks = pd.merge(inputId, inputBooks)\n",
        "inputBooks = inputBooks[['book_id','book_title','rating']]\n",
        "print(inputBooks)"
      ],
      "metadata": {
        "colab": {
          "base_uri": "https://localhost:8080/"
        },
        "id": "rUmhAWcnSQbs",
        "outputId": "2f6852d5-4e77-4c48-a33e-5f6b4ba9d6c6"
      },
      "execution_count": 148,
      "outputs": [
        {
          "output_type": "stream",
          "name": "stdout",
          "text": [
            "    book_id                                book_title  rating\n",
            "0         1                          The Hunger Games       1\n",
            "1         3                                  Twilight       5\n",
            "2      4234                                  Twilight       5\n",
            "3      7047                                  Twilight       5\n",
            "4      8354                                  Twilight       5\n",
            "5       133                      Anne of Green Gables       5\n",
            "6      1924                                Reaper Man       2\n",
            "7      2624                     Prelude to Foundation       3\n",
            "8      2749                    I Too Had A Love Story       1\n",
            "9      4327                        The Last Sin Eater       5\n",
            "10     5384                           Hark! A Vagrant       3\n",
            "11     5544                                 Article 5       3\n",
            "12     5768                                     Crush       3\n",
            "13     9531                                     Crush       3\n",
            "14     6402                      You Know You Love Me       3\n",
            "15     8784  Showdown by Ted Dekker Signature Edition       4\n",
            "16     9618                     To Challenge a Dragon       2\n",
            "17     9788                                      Hope       1\n"
          ]
        }
      ]
    },
    {
      "cell_type": "markdown",
      "source": [
        "### **Find the users who have read and reviewed the chosen books**\n"
      ],
      "metadata": {
        "id": "hg-7bgzMVMgX"
      }
    },
    {
      "cell_type": "code",
      "source": [
        "userSubset = ratings[ratings['book_id'].isin(inputBooks['book_id'].tolist())]\n",
        "print(userSubset.groupby('book_id').count())"
      ],
      "metadata": {
        "colab": {
          "base_uri": "https://localhost:8080/"
        },
        "id": "RxerY7PXTaJn",
        "outputId": "60cf366f-1158-4d50-ba3f-75f8703e8776"
      },
      "execution_count": 149,
      "outputs": [
        {
          "output_type": "stream",
          "name": "stdout",
          "text": [
            "         user_id  rating\n",
            "book_id                 \n",
            "1          22806   22806\n",
            "3          16931   16931\n",
            "133         6536    6536\n",
            "1924         912     912\n",
            "2624         547     547\n",
            "2749         136     136\n",
            "4234         346     346\n",
            "4327         219     219\n",
            "5384         206     206\n",
            "5544         222     222\n",
            "5768         242     242\n",
            "6402         172     172\n",
            "7047         256     256\n",
            "8354         124     124\n",
            "8784         119     119\n",
            "9531          72      72\n",
            "9618         109     109\n",
            "9788          92      92\n"
          ]
        }
      ]
    },
    {
      "cell_type": "code",
      "source": [
        "#Groupby creates several sub dataframes where they all have the same value in the column specified as the parameter\n",
        "userSubsetGroup = userSubset.groupby(['user_id'])\n",
        "\n",
        "def take_5_elem(x):\n",
        "    # print (len(x[1]))\n",
        "    return len(x[1])\n",
        "\n",
        "\n",
        "#Sorting it so users with movie most in common with the input will have priority\n",
        "userSubsetGroup = sorted(userSubsetGroup, key=take_5_elem, reverse=True)\n",
        "\n",
        "userSubsetGroup = userSubsetGroup[0:100]\n",
        "print(userSubsetGroup[0:5])"
      ],
      "metadata": {
        "colab": {
          "base_uri": "https://localhost:8080/"
        },
        "id": "3uo9pylSWVtq",
        "outputId": "a6bf7845-6695-4ef8-88b3-6fd4a096315c"
      },
      "execution_count": 150,
      "outputs": [
        {
          "output_type": "stream",
          "name": "stderr",
          "text": [
            "<ipython-input-150-2589baaaaca8>:10: FutureWarning: In a future version of pandas, a length 1 tuple will be returned when iterating over a groupby with a grouper equal to a list of length 1. Don't supply a list with a single grouper to avoid this warning.\n",
            "  userSubsetGroup = sorted(userSubsetGroup, key=take_5_elem, reverse=True)\n"
          ]
        },
        {
          "output_type": "stream",
          "name": "stdout",
          "text": [
            "[(18576,          user_id  book_id  rating\n",
            "1258056    18576     4327       2\n",
            "1258070    18576      133       5\n",
            "1258131    18576        3       1\n",
            "1258137    18576        1       4\n",
            "1258846    18576     8784       4), (35944,          user_id  book_id  rating\n",
            "2838865    35944        3       1\n",
            "2838867    35944        1       3\n",
            "2926237    35944     2749       3\n",
            "3086614    35944     4234       4\n",
            "3416214    35944      133       4), (50494,          user_id  book_id  rating\n",
            "4812331    50494        1       4\n",
            "4812726    50494        3       1\n",
            "4813054    50494     8354       4\n",
            "4814029    50494     9618       5\n",
            "5051945    50494      133       3), (1052,          user_id  book_id  rating\n",
            "27263       1052        3       3\n",
            "27359       1052     2624       4\n",
            "50239       1052     7047       2\n",
            "2932506     1052        1       4), (1392,          user_id  book_id  rating\n",
            "53345       1392        3       1\n",
            "96327       1392     6402       5\n",
            "3126096     1392        1       4\n",
            "3553625     1392      133       4)]\n"
          ]
        }
      ]
    },
    {
      "cell_type": "markdown",
      "source": [
        "### **Calculate the Pearson correlation coefficient between users based on their book ratings**"
      ],
      "metadata": {
        "id": "_L4yQXAsX6IR"
      }
    },
    {
      "cell_type": "code",
      "source": [
        "#Store the Pearson Correlation in a dictionary, where the key is the user Id and the value is the coefficient\n",
        "pearsonCorrelationDict = {}\n",
        "\n",
        "#For every user group in our subset\n",
        "for name, group in userSubsetGroup:\n",
        "\n",
        "    #Let's start by sorting the input and current user group so the values aren't mixed up later on\n",
        "    group = group.sort_values(by='book_id')\n",
        "    inputBooks = inputBooks.sort_values(by='book_id')\n",
        "\n",
        "    #Get the N for the formula\n",
        "    nRatings = len(group)\n",
        "\n",
        "    #Get the review scores for the movies that they both have in common\n",
        "    temp_df = inputBooks[inputBooks['book_id'].isin(group['book_id'].tolist())]\n",
        "\n",
        "    #And then store them in a temporary buffer variable in a list format to facilitate future calculations\n",
        "    tempRatingList = temp_df['rating'].tolist()\n",
        "\n",
        "    #Let's also put the current user group reviews in a list format\n",
        "    tempGroupList = group['rating'].tolist()\n",
        "\n",
        "\n",
        "    #Now let's calculate the pearson correlation between two users, so called, x and y manually (check the formula from week 7 slide)\n",
        "    Sxx = sum([i**2 for i in tempRatingList]) - pow(sum(tempRatingList),2)/float(nRatings)\n",
        "    Syy = sum([i**2 for i in tempGroupList]) - pow(sum(tempGroupList),2)/float(nRatings)\n",
        "    Sxy = sum( i*j for i, j in zip(tempRatingList, tempGroupList)) - sum(tempRatingList)*sum(tempGroupList)/float(nRatings)\n",
        "\n",
        "    #If the denominator is different than zero, then divide, else, 0 correlation.\n",
        "    if Sxx != 0 and Syy != 0:\n",
        "        pearsonCorrelationDict[name] = Sxy/sqrt(Sxx*Syy)\n",
        "    else:\n",
        "        pearsonCorrelationDict[name] = 0"
      ],
      "metadata": {
        "id": "xtd9nV1BW0Kw"
      },
      "execution_count": 151,
      "outputs": []
    },
    {
      "cell_type": "markdown",
      "source": [
        "### **Transform the dictionary of Pearson correlation coefficients into a Pandas DataFrame, add appropriate column names, set the 'user_id' column as index**"
      ],
      "metadata": {
        "id": "yjE3EyC7Yy9O"
      }
    },
    {
      "cell_type": "code",
      "source": [
        "pearsonDF = pd.DataFrame.from_dict(pearsonCorrelationDict, orient='index')\n",
        "pearsonDF.columns = ['similarityIndex']\n",
        "pearsonDF['user_id'] = pearsonDF.index\n",
        "pearsonDF.index = range(len(pearsonDF))\n",
        "print(pearsonDF.head())"
      ],
      "metadata": {
        "colab": {
          "base_uri": "https://localhost:8080/"
        },
        "id": "r5JTj9r-Yg3o",
        "outputId": "d49f068c-b1bb-49f4-cb16-fc9a84ee338f"
      },
      "execution_count": 152,
      "outputs": [
        {
          "output_type": "stream",
          "name": "stdout",
          "text": [
            "   similarityIndex  user_id\n",
            "0        -0.351364    18576\n",
            "1         0.000000    35944\n",
            "2        -0.608859    50494\n",
            "3        -0.818182     1052\n",
            "4        -0.502519     1392\n"
          ]
        }
      ]
    },
    {
      "cell_type": "markdown",
      "source": [
        "### **Display users with the highest similarity indices**"
      ],
      "metadata": {
        "id": "j0Z2zLnBZJwD"
      }
    },
    {
      "cell_type": "code",
      "source": [
        "topUsers=pearsonDF.sort_values(by='similarityIndex', ascending=False)[0:50]\n",
        "print(topUsers.head())"
      ],
      "metadata": {
        "colab": {
          "base_uri": "https://localhost:8080/"
        },
        "id": "PS9zydodYqcF",
        "outputId": "d3b93fed-e2ba-4e3a-880e-44590c0069e1"
      },
      "execution_count": 153,
      "outputs": [
        {
          "output_type": "stream",
          "name": "stdout",
          "text": [
            "    similarityIndex  user_id\n",
            "43         1.000000    22170\n",
            "41         1.000000    21355\n",
            "20         0.980196    12683\n",
            "46         0.870388    22942\n",
            "80         0.852803    39302\n"
          ]
        }
      ]
    },
    {
      "cell_type": "code",
      "source": [
        "topUsersRating=topUsers.merge(ratings, left_on='user_id', right_on='user_id', how='inner')\n",
        "print(topUsersRating.head(100))"
      ],
      "metadata": {
        "colab": {
          "base_uri": "https://localhost:8080/"
        },
        "id": "ajxV5U2oZYie",
        "outputId": "b5848e06-870d-4d78-fbc4-4f0d6a7395b9"
      },
      "execution_count": 154,
      "outputs": [
        {
          "output_type": "stream",
          "name": "stdout",
          "text": [
            "    similarityIndex  user_id  book_id  rating\n",
            "0               1.0    22170      106       4\n",
            "1               1.0    22170      114       5\n",
            "2               1.0    22170      108       5\n",
            "3               1.0    22170      634       4\n",
            "4               1.0    22170      308       5\n",
            "..              ...      ...      ...     ...\n",
            "95              1.0    22170       56       5\n",
            "96              1.0    22170       52       5\n",
            "97              1.0    22170      219       5\n",
            "98              1.0    22170       17       5\n",
            "99              1.0    22170       49       5\n",
            "\n",
            "[100 rows x 4 columns]\n"
          ]
        }
      ]
    },
    {
      "cell_type": "code",
      "source": [
        "#Multiplies the similarity by the user’s ratings\n",
        "topUsersRating['weightedRating'] = topUsersRating['similarityIndex']*topUsersRating['rating']\n",
        "print(topUsersRating.head())"
      ],
      "metadata": {
        "colab": {
          "base_uri": "https://localhost:8080/"
        },
        "id": "GE9EpYzfZft9",
        "outputId": "c9236c5a-e7b4-4825-bcee-44042f39efa7"
      },
      "execution_count": 155,
      "outputs": [
        {
          "output_type": "stream",
          "name": "stdout",
          "text": [
            "   similarityIndex  user_id  book_id  rating  weightedRating\n",
            "0              1.0    22170      106       4             4.0\n",
            "1              1.0    22170      114       5             5.0\n",
            "2              1.0    22170      108       5             5.0\n",
            "3              1.0    22170      634       4             4.0\n",
            "4              1.0    22170      308       5             5.0\n"
          ]
        }
      ]
    },
    {
      "cell_type": "code",
      "source": [
        "#Applies a sum to the topUsers after grouping it up by movieId\n",
        "tempTopUsersRating = topUsersRating.groupby('book_id').sum()[['similarityIndex','weightedRating']]\n",
        "tempTopUsersRating.columns = ['sum_similarityIndex','sum_weightedRating']\n",
        "print(tempTopUsersRating.head())"
      ],
      "metadata": {
        "colab": {
          "base_uri": "https://localhost:8080/"
        },
        "id": "m_PpHV86aM7Y",
        "outputId": "195ef6eb-bda7-46ea-d512-10949a0418cb"
      },
      "execution_count": 156,
      "outputs": [
        {
          "output_type": "stream",
          "name": "stdout",
          "text": [
            "         sum_similarityIndex  sum_weightedRating\n",
            "book_id                                         \n",
            "1                   0.002341           -5.676749\n",
            "2                   0.795762            3.852685\n",
            "3                   0.090387           14.703685\n",
            "4                  -1.482720           -7.613935\n",
            "5                   0.216175            1.088070\n"
          ]
        }
      ]
    },
    {
      "cell_type": "code",
      "source": [
        "#Creates an empty dataframe\n",
        "recommendation_df = pd.DataFrame()\n",
        "\n",
        "#Now we take the weighted average\n",
        "recommendation_df['weighted average recommendation score'] = tempTopUsersRating['sum_weightedRating']/tempTopUsersRating['sum_similarityIndex']\n",
        "recommendation_df['book_id'] = tempTopUsersRating.index\n",
        "print(recommendation_df.head(10))"
      ],
      "metadata": {
        "colab": {
          "base_uri": "https://localhost:8080/"
        },
        "id": "5_AZT5K7akce",
        "outputId": "45cc7c1f-a6c7-419b-a2cc-aa24e90b322c"
      },
      "execution_count": 157,
      "outputs": [
        {
          "output_type": "stream",
          "name": "stdout",
          "text": [
            "         weighted average recommendation score  book_id\n",
            "book_id                                                \n",
            "1                                 -2424.413923        1\n",
            "2                                     4.841506        2\n",
            "3                                   162.675520        3\n",
            "4                                     5.135114        4\n",
            "5                                     5.033279        5\n",
            "6                                     6.461028        6\n",
            "7                                     3.555417        7\n",
            "8                                     2.968848        8\n",
            "9                                     4.437288        9\n",
            "10                                    6.988952       10\n"
          ]
        }
      ]
    },
    {
      "cell_type": "code",
      "source": [
        "recommendation_df = recommendation_df.sort_values(by='weighted average recommendation score', ascending=False)\n",
        "print(recommendation_df)"
      ],
      "metadata": {
        "colab": {
          "base_uri": "https://localhost:8080/"
        },
        "id": "rXZTu7b6bdlj",
        "outputId": "f0f2ac95-6303-46fd-fb06-4290197de8e5"
      },
      "execution_count": 158,
      "outputs": [
        {
          "output_type": "stream",
          "name": "stdout",
          "text": [
            "         weighted average recommendation score  book_id\n",
            "book_id                                                \n",
            "3                                   162.675520        3\n",
            "28                                  140.713876       28\n",
            "4083                                131.428510     4083\n",
            "5048                                119.640987     5048\n",
            "224                                  85.560341      224\n",
            "...                                        ...      ...\n",
            "9810                                       NaN     9810\n",
            "9838                                       NaN     9838\n",
            "9974                                       NaN     9974\n",
            "9977                                       NaN     9977\n",
            "9986                                       NaN     9986\n",
            "\n",
            "[2451 rows x 2 columns]\n"
          ]
        }
      ]
    },
    {
      "cell_type": "markdown",
      "source": [
        "### **Output the top 20 most recommmended books to the user**"
      ],
      "metadata": {
        "id": "nYiL2B9ObAlM"
      }
    },
    {
      "cell_type": "code",
      "source": [
        "recommended_book=books.loc[books['book_id'].isin(recommendation_df.head(20)['book_id'])]\n",
        "\n",
        "#we don't want to recommend the same movie\n",
        "recommended_book=recommended_book.loc[~recommended_book.book_id.isin(userSubset['book_id'])]\n",
        "\n",
        "print(recommended_book[['book_id', 'book_title', 'book_authors']])"
      ],
      "metadata": {
        "colab": {
          "base_uri": "https://localhost:8080/"
        },
        "id": "0LdpBXyUbf17",
        "outputId": "6af663af-1b95-437e-a5f0-880de3a9d351"
      },
      "execution_count": 159,
      "outputs": [
        {
          "output_type": "stream",
          "name": "stdout",
          "text": [
            "      book_id                               book_title  \\\n",
            "12         13                     Nineteen Eighty-Four   \n",
            "27         28                       Lord of the Flies    \n",
            "32         33                      Memoirs of a Geisha   \n",
            "76         78                    The Devil Wears Prada   \n",
            "104       107                       A Walk to Remember   \n",
            "107       110                         A Clash of Kings   \n",
            "147       150                             The Red Tent   \n",
            "154       157                       Green Eggs and Ham   \n",
            "174       177                 Преступление и наказание   \n",
            "221       224                                   Fallen   \n",
            "252       255                           Atlas Shrugged   \n",
            "289       292           The Voyage of the Dawn Treader   \n",
            "290       293                          Treasure Island   \n",
            "324       327                                   Legend   \n",
            "388       391                                The Lorax   \n",
            "627       632              Shatter Me (Shatter Me, #1)   \n",
            "842       849  Angus, Thongs and Full-Frontal Snogging   \n",
            "4028     4083                      Match Me If You Can   \n",
            "4968     5048                                  Haunted   \n",
            "\n",
            "                                 book_authors  \n",
            "12    George Orwell, Erich Fromm, Celâl Üster  \n",
            "27                            William Golding  \n",
            "32                              Arthur Golden  \n",
            "76                          Lauren Weisberger  \n",
            "104                           Nicholas Sparks  \n",
            "107                        George R.R. Martin  \n",
            "147                             Anita Diamant  \n",
            "154                       Dr. Seuss, לאה נאור  \n",
            "174          Fyodor Dostoyevsky, David McDuff  \n",
            "221                               Lauren Kate  \n",
            "252                 Ayn Rand, Leonard Peikoff  \n",
            "289                C.S. Lewis, Pauline Baynes  \n",
            "290                    Robert Louis Stevenson  \n",
            "324                                  Marie Lu  \n",
            "388                                 Dr. Seuss  \n",
            "627                              Tahereh Mafi  \n",
            "842                           Louise Rennison  \n",
            "4028                 Susan Elizabeth Phillips  \n",
            "4968                                Meg Cabot  \n"
          ]
        }
      ]
    },
    {
      "cell_type": "code",
      "source": [],
      "metadata": {
        "id": "qfRnmZHAYfe_"
      },
      "execution_count": 159,
      "outputs": []
    }
  ]
}