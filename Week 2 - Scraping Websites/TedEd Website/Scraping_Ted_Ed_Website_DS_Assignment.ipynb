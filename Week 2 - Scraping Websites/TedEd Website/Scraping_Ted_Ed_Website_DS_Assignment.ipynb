{
  "nbformat": 4,
  "nbformat_minor": 0,
  "metadata": {
    "colab": {
      "provenance": []
    },
    "kernelspec": {
      "name": "python3",
      "display_name": "Python 3"
    },
    "language_info": {
      "name": "python"
    }
  },
  "cells": [
    {
      "cell_type": "markdown",
      "source": [
        "# Step 1. Import the Library"
      ],
      "metadata": {
        "id": "cVS7Ttehs5Yz"
      }
    },
    {
      "cell_type": "code",
      "execution_count": 26,
      "metadata": {
        "id": "db3ip50ElV6V"
      },
      "outputs": [],
      "source": [
        "from bs4 import BeautifulSoup\n",
        "import requests\n",
        "import re\n",
        "import pandas as pd"
      ]
    },
    {
      "cell_type": "markdown",
      "source": [
        "# Step 2. Access the HTML content from the webpage by assigning the URL and creating a soup object"
      ],
      "metadata": {
        "id": "xUAOC5GRtqK_"
      }
    },
    {
      "cell_type": "code",
      "source": [
        "# Downloading cna data\n",
        "headers = {'Accept-Language': 'en-US,en;q=0.8'}\n",
        "url = 'https://ed.ted.com/lessons?direction=desc&sort=featured-position&user_by_click=student'\n",
        "response = requests.get(url,headers=headers)\n",
        "soup = BeautifulSoup(response.text, \"html.parser\")"
      ],
      "metadata": {
        "id": "mCZWgdv-_d1M"
      },
      "execution_count": 45,
      "outputs": []
    },
    {
      "cell_type": "markdown",
      "source": [
        "# Step 3. Extract the File"
      ],
      "metadata": {
        "id": "IFi3GRqBupPb"
      }
    },
    {
      "cell_type": "code",
      "source": [
        "lesson = soup.select('h2.text-gray-700')\n",
        "\n",
        "print(lesson[0])\n",
        "print(\" \")\n",
        "print(\"how many lessons are available? \", len(soup.select('h2.text-gray-700')))"
      ],
      "metadata": {
        "colab": {
          "base_uri": "https://localhost:8080/"
        },
        "id": "VD-iiuqHuYig",
        "outputId": "60602658-352f-4d29-e7ed-4a3a176718e1"
      },
      "execution_count": 50,
      "outputs": [
        {
          "output_type": "stream",
          "name": "stdout",
          "text": [
            "<h2 class=\"my-1.5 font-bold text-lg text-gray-700\">\n",
            "<a class=\"text-gray-700 hover:text-gray-700\" data-turbo-frame=\"_top\" href=\"/lessons/should-we-get-rid-of-standardized-testing-arlo-kempf\">Should we get rid of standardized testing?</a>\n",
            "</h2>\n",
            " \n",
            "how many lessons are available?  24\n"
          ]
        }
      ]
    },
    {
      "cell_type": "code",
      "source": [
        "text = soup.select('h2 a')\n",
        "print(text)"
      ],
      "metadata": {
        "colab": {
          "base_uri": "https://localhost:8080/"
        },
        "id": "-3gmhKBdwKqq",
        "outputId": "961b35ff-0cf8-4329-e927-4c9a7eb32c4a"
      },
      "execution_count": 51,
      "outputs": [
        {
          "output_type": "stream",
          "name": "stdout",
          "text": [
            "[<a class=\"text-gray-700 hover:text-gray-700\" data-turbo-frame=\"_top\" href=\"/lessons/should-we-get-rid-of-standardized-testing-arlo-kempf\">Should we get rid of standardized testing?</a>, <a class=\"text-gray-700 hover:text-gray-700\" data-turbo-frame=\"_top\" href=\"/lessons/how-schools-can-nurture-every-student-s-genius-trish-millines-dziko\">How schools can nurture every student's genius - Trish Millines Dziko</a>, <a class=\"text-gray-700 hover:text-gray-700\" data-turbo-frame=\"_top\" href=\"/best_of_web/ltryN5j7\">Why perfect grades don't matter</a>, <a class=\"text-gray-700 hover:text-gray-700\" data-turbo-frame=\"_top\" href=\"/lessons/why-are-there-so-many-types-of-apples-theresa-doud\">Why are there so many types of apples?</a>, <a class=\"text-gray-700 hover:text-gray-700\" data-turbo-frame=\"_top\" href=\"/best_of_web/wsuJRkkK\">Why we should draw more (and photograph less)</a>, <a class=\"text-gray-700 hover:text-gray-700\" data-turbo-frame=\"_top\" href=\"/lessons/why-should-you-read-flannery-o-connor-iseult-gillespie\">Why should you read Flannery O’Connor?</a>, <a class=\"text-gray-700 hover:text-gray-700\" data-turbo-frame=\"_top\" href=\"/lessons/what-is-dyslexia-kelli-sandman-hurley\">What is dyslexia?</a>, <a class=\"text-gray-700 hover:text-gray-700\" data-turbo-frame=\"_top\" href=\"/best_of_web/982HDIkv\">3 rules to spark learning - Ramsey Musallam</a>, <a class=\"text-gray-700 hover:text-gray-700\" data-turbo-frame=\"_top\" href=\"/lessons/how-can-we-support-the-emotional-well-being-of-teachers-sydney-jensen\">How can we support the emotional well-being of teachers? - Sydney Jensen</a>, <a class=\"text-gray-700 hover:text-gray-700\" data-turbo-frame=\"_top\" href=\"/best_of_web/IzCL8SMP\">Myths you learned in health class</a>, <a class=\"text-gray-700 hover:text-gray-700\" data-turbo-frame=\"_top\" href=\"/lessons/the-dark-history-of-iq-tests-stefan-c-dombrowski\">The dark history of IQ tests</a>, <a class=\"text-gray-700 hover:text-gray-700\" data-turbo-frame=\"_top\" href=\"/lessons/5-tips-to-improve-your-critical-thinking-samantha-agoos\">5 tips to improve your critical thinking</a>, <a class=\"text-gray-700 hover:text-gray-700\" data-turbo-frame=\"_top\" href=\"/lessons/what-s-the-smartest-age-shannon-odell\">What’s the smartest age?</a>, <a class=\"text-gray-700 hover:text-gray-700\" data-turbo-frame=\"_top\" href=\"/lessons/a-parkland-teacher-s-homework-for-us-all-diane-wolk-rogers\">A Parkland teacher's homework for us all - Diane Wolk-Rogers</a>, <a class=\"text-gray-700 hover:text-gray-700\" data-turbo-frame=\"_top\" href=\"/lessons/why-is-william-faulkner-so-difficult-to-read-sascha-morrell\">How (and why) to read William Faulkner</a>, <a class=\"text-gray-700 hover:text-gray-700\" data-turbo-frame=\"_top\" href=\"/best_of_web/GsuClwql\">How well do masks work?</a>, <a class=\"text-gray-700 hover:text-gray-700\" data-turbo-frame=\"_top\" href=\"/lessons/how-playing-sports-benefits-your-body-and-your-brain-leah-lagos-and-jaspal-ricky-singh\">How playing sports benefits your body ... and your brain</a>, <a class=\"text-gray-700 hover:text-gray-700\" data-turbo-frame=\"_top\" href=\"/lessons/the-benefits-of-a-good-night-s-sleep-shai-marcu\">The benefits of a good night's sleep</a>, <a class=\"text-gray-700 hover:text-gray-700\" data-turbo-frame=\"_top\" href=\"/best_of_web/fincRhXt\">Am I Really A Visual Learner?</a>, <a class=\"text-gray-700 hover:text-gray-700\" data-turbo-frame=\"_top\" href=\"/lessons/how-to-teach-kids-to-talk-about-taboo-topics-liz-kleinrock\">How to teach kids to talk about taboo topics - Liz Kleinrock</a>, <a class=\"text-gray-700 hover:text-gray-700\" data-turbo-frame=\"_top\" href=\"/lessons/how-to-design-a-library-that-makes-kids-want-to-read-michael-bierut\">How to design a library that makes kids want to read - Michael Bierut</a>, <a class=\"text-gray-700 hover:text-gray-700\" data-turbo-frame=\"_top\" href=\"/lessons/the-benefits-of-good-posture-murat-dalkinic\">The benefits of good posture</a>, <a class=\"text-gray-700 hover:text-gray-700\" data-turbo-frame=\"_top\" href=\"/best_of_web/tJXf06qY\">Is binge watching bad for you?</a>, <a class=\"text-gray-700 hover:text-gray-700\" data-turbo-frame=\"_top\" href=\"/lessons/where-do-math-symbols-come-from-john-david-walters\">Where do math symbols come from?</a>]\n"
          ]
        }
      ]
    },
    {
      "cell_type": "code",
      "source": [
        "lesson_links = []\n",
        "\n",
        "for l in soup.select('h2 a'):\n",
        "  lesson_links.append(\"https://ed.ted.com/\" + l.attrs.get('href'))\n",
        "\n",
        "print(lesson_links[0])"
      ],
      "metadata": {
        "colab": {
          "base_uri": "https://localhost:8080/"
        },
        "id": "LtNmEBnxy5_e",
        "outputId": "818db084-d55c-4a58-c3d3-0fe6bf7b3c9c"
      },
      "execution_count": 53,
      "outputs": [
        {
          "output_type": "stream",
          "name": "stdout",
          "text": [
            "https://ed.ted.com//lessons/should-we-get-rid-of-standardized-testing-arlo-kempf\n"
          ]
        }
      ]
    },
    {
      "cell_type": "markdown",
      "source": [
        "# Step 4. Looping the process and storing the data"
      ],
      "metadata": {
        "id": "tq5FWZg7zmMA"
      }
    },
    {
      "cell_type": "code",
      "source": [
        "# create lesson title and lesson link list\n",
        "lesson_title = []\n",
        "lesson_link = []\n",
        "\n",
        "for a in soup.select('h2 a'):\n",
        "  # extract the lesson title text and the lesson link\n",
        "  lesson_title.append(a.get_text())\n",
        "  lesson_link.append(\"https://ed.ted.com/\" + a.attrs.get('href'))\n",
        "\n",
        "print(lesson_title)\n",
        "print(lesson_link)"
      ],
      "metadata": {
        "colab": {
          "base_uri": "https://localhost:8080/"
        },
        "id": "oHsbgFO9E2PS",
        "outputId": "37e360df-d7b5-43ff-c1f7-5571e750481d"
      },
      "execution_count": 79,
      "outputs": [
        {
          "output_type": "stream",
          "name": "stdout",
          "text": [
            "['Should we get rid of standardized testing?', \"How schools can nurture every student's genius - Trish Millines Dziko\", \"Why perfect grades don't matter\", 'Why are there so many types of apples?', 'Why we should draw more (and photograph less)', 'Why should you read Flannery O’Connor?', 'What is dyslexia?', '3 rules to spark learning - Ramsey Musallam', 'How can we support the emotional well-being of teachers? - Sydney Jensen', 'Myths you learned in health class', 'The dark history of IQ tests', '5 tips to improve your critical thinking', 'What’s the smartest age?', \"A Parkland teacher's homework for us all - Diane Wolk-Rogers\", 'How (and why) to read William Faulkner', 'How well do masks work?', 'How playing sports benefits your body ... and your brain', \"The benefits of a good night's sleep\", 'Am I Really A Visual Learner?', 'How to teach kids to talk about taboo topics - Liz Kleinrock', 'How to design a library that makes kids want to read - Michael Bierut', 'The benefits of good posture', 'Is binge watching bad for you?', 'Where do math symbols come from?']\n",
            "['https://ed.ted.com//lessons/should-we-get-rid-of-standardized-testing-arlo-kempf', 'https://ed.ted.com//lessons/how-schools-can-nurture-every-student-s-genius-trish-millines-dziko', 'https://ed.ted.com//best_of_web/ltryN5j7', 'https://ed.ted.com//lessons/why-are-there-so-many-types-of-apples-theresa-doud', 'https://ed.ted.com//best_of_web/wsuJRkkK', 'https://ed.ted.com//lessons/why-should-you-read-flannery-o-connor-iseult-gillespie', 'https://ed.ted.com//lessons/what-is-dyslexia-kelli-sandman-hurley', 'https://ed.ted.com//best_of_web/982HDIkv', 'https://ed.ted.com//lessons/how-can-we-support-the-emotional-well-being-of-teachers-sydney-jensen', 'https://ed.ted.com//best_of_web/IzCL8SMP', 'https://ed.ted.com//lessons/the-dark-history-of-iq-tests-stefan-c-dombrowski', 'https://ed.ted.com//lessons/5-tips-to-improve-your-critical-thinking-samantha-agoos', 'https://ed.ted.com//lessons/what-s-the-smartest-age-shannon-odell', 'https://ed.ted.com//lessons/a-parkland-teacher-s-homework-for-us-all-diane-wolk-rogers', 'https://ed.ted.com//lessons/why-is-william-faulkner-so-difficult-to-read-sascha-morrell', 'https://ed.ted.com//best_of_web/GsuClwql', 'https://ed.ted.com//lessons/how-playing-sports-benefits-your-body-and-your-brain-leah-lagos-and-jaspal-ricky-singh', 'https://ed.ted.com//lessons/the-benefits-of-a-good-night-s-sleep-shai-marcu', 'https://ed.ted.com//best_of_web/fincRhXt', 'https://ed.ted.com//lessons/how-to-teach-kids-to-talk-about-taboo-topics-liz-kleinrock', 'https://ed.ted.com//lessons/how-to-design-a-library-that-makes-kids-want-to-read-michael-bierut', 'https://ed.ted.com//lessons/the-benefits-of-good-posture-murat-dalkinic', 'https://ed.ted.com//best_of_web/tJXf06qY', 'https://ed.ted.com//lessons/where-do-math-symbols-come-from-john-david-walters']\n"
          ]
        }
      ]
    },
    {
      "cell_type": "code",
      "source": [
        "# create lesson category list\n",
        "lesson_category = []\n",
        "\n",
        "for c in soup.select('a.text-secondary-700'):\n",
        "  # extract the lesson category text\n",
        "  lesson_category.append(c.get_text())\n",
        "\n",
        "print(lesson_category)"
      ],
      "metadata": {
        "colab": {
          "base_uri": "https://localhost:8080/"
        },
        "id": "-1yowtwMZZJZ",
        "outputId": "ee7f9f4f-7ceb-40d0-dcdf-20a9d96371a4"
      },
      "execution_count": 80,
      "outputs": [
        {
          "output_type": "stream",
          "name": "stdout",
          "text": [
            "['Education Policy', 'Teaching & Education', 'Teaching & Education', 'Science & Technology', 'Teaching & Education', 'Literature & Language', 'Medical Conditions', 'Teaching & Education', 'Teaching & Education', 'Health', 'History', 'Thinking & Learning', 'Thinking & Learning', 'Public Health', 'Literature & Language', 'Public Health', 'Physical Fitness', 'Health', 'Thinking & Learning', 'Teaching & Education', 'Design, Engineering & Technology', 'Health', 'Health', 'Numbers & Operations']\n"
          ]
        }
      ]
    },
    {
      "cell_type": "code",
      "source": [
        "# create lesson duration list\n",
        "lesson_duration = []\n",
        "\n",
        "for d in soup.select('p.sr-only'):\n",
        "  # extract the lesson duration text, replace \"Lesson duration \" string with \"\", and clean the duration by removing extra spaces and newline characters\n",
        "  duration = d.get_text()\n",
        "  duration_only = duration.replace(\"Lesson duration \", \"\")\n",
        "  cleaned_duration = ' '.join(duration_only.split())\n",
        "\n",
        "  lesson_duration.append(cleaned_duration)\n",
        "\n",
        "print(lesson_duration)"
      ],
      "metadata": {
        "colab": {
          "base_uri": "https://localhost:8080/"
        },
        "id": "BmD355sQZePV",
        "outputId": "0ce37bb4-1edf-4032-c501-727c86dda072"
      },
      "execution_count": 81,
      "outputs": [
        {
          "output_type": "stream",
          "name": "stdout",
          "text": [
            "['05:41', '15:41', '04:58', '04:28', '02:53', '04:12', '04:35', '06:30', '11:32', '05:03', '06:10', '04:30', '04:53', '15:47', '04:41', '08:21', '03:47', '05:45', '02:38', '12:02', '12:27', '04:27', '02:43', '04:30']\n"
          ]
        }
      ]
    },
    {
      "cell_type": "code",
      "source": [
        "# create lesson image link list\n",
        "lesson_image_link = []\n",
        "\n",
        "for i in soup.select('img.absolute'):\n",
        "  # extract the lesson image link\n",
        "  lesson_image_link.append(i.attrs.get('src'))\n",
        "\n",
        "print(lesson_image_link)"
      ],
      "metadata": {
        "colab": {
          "base_uri": "https://localhost:8080/"
        },
        "id": "ZuG3mLa1Zkxq",
        "outputId": "faff2061-e0a1-4c73-9ffa-73e10459e7b8"
      },
      "execution_count": 82,
      "outputs": [
        {
          "output_type": "stream",
          "name": "stdout",
          "text": [
            "['https://i.ytimg.com/vi/YtE0OsRWeYI/0.jpg', 'https://i.ytimg.com/vi/SUDMIA23_5s/0.jpg', 'https://i.ytimg.com/vi/KShfEMy8UZQ/0.jpg', 'https://i.ytimg.com/vi/mQePz62zkqA/0.jpg', 'https://i.ytimg.com/vi/k1eHm0PNnjo/0.jpg', 'https://i.ytimg.com/vi/9QVsGWsk7TU/0.jpg', 'https://i.ytimg.com/vi/zafiGBrFkRM/0.jpg', 'https://i.ytimg.com/vi/YsYHqfk0X2A/0.jpg', 'https://i.ytimg.com/vi/OfCLTQhW9GQ/0.jpg', 'https://i.ytimg.com/vi/pkzunP1s6cY/0.jpg', 'https://i.ytimg.com/vi/W2bKaw2AJxs/0.jpg', 'https://i.ytimg.com/vi/dItUGF8GdTw/0.jpg', 'https://i.ytimg.com/vi/sbCvQbBi2G8/0.jpg', 'https://i.ytimg.com/vi/kuT7zWZEwl0/0.jpg', 'https://i.ytimg.com/vi/wYQWh8VGL3M/0.jpg', 'https://i.ytimg.com/vi/0Tp0zB904Mc/0.jpg', 'https://i.ytimg.com/vi/hmFQqjMF_f0/0.jpg', 'https://i.ytimg.com/vi/gedoSfZvBgE/0.jpg', 'https://i.ytimg.com/vi/V-S_53HmEUA/0.jpg', 'https://i.ytimg.com/vi/G9-urSR19SI/0.jpg', 'https://i.ytimg.com/vi/YsA_JTeHJ6A/0.jpg', 'https://i.ytimg.com/vi/OyK0oE5rwFY/0.jpg', 'https://i.ytimg.com/vi/KJRzgl0FuMA/0.jpg', 'https://i.ytimg.com/vi/eVm063xmnow/0.jpg']\n"
          ]
        }
      ]
    },
    {
      "cell_type": "code",
      "source": [
        "# create lesson viewers list\n",
        "lesson_viewers = []\n",
        "\n",
        "for v in soup.select('p.text-gray-700'):\n",
        "  # extract the lesson view text, replace \" Views\" with \"\", and clean the lesson view by removing newline charaacters\n",
        "  viewers = v.get_text()\n",
        "  viewers_only = viewers.replace(\" Views\", \"\")\n",
        "  cleaned_viewers = ' '.join(viewers_only.split())\n",
        "\n",
        "  lesson_viewers.append(cleaned_viewers)\n",
        "\n",
        "print(lesson_view)"
      ],
      "metadata": {
        "colab": {
          "base_uri": "https://localhost:8080/"
        },
        "id": "VwXfyA6IZq4I",
        "outputId": "a2d64e0f-6e64-48e5-921c-22c3ec86dd8c"
      },
      "execution_count": 83,
      "outputs": [
        {
          "output_type": "stream",
          "name": "stdout",
          "text": [
            "['1,138,424', '68,558', '4,331,796', '1,024,319', '366,667', '365,126', '6,329,977', '375,073', '144,495', '516,267', '2,134,707', '9,714,219', '1,180,797', '66,820', '166,494', '2,142,401', '2,038,430', '6,201,353', '294,802', '136,983', '449,132', '13,338,526', '1,823,375', '2,298,571']\n"
          ]
        }
      ]
    },
    {
      "cell_type": "code",
      "source": [
        "# create lesson description list\n",
        "lesson_description = []\n",
        "\n",
        "# loop through the 'lesson_link' link, where each link redirects to a lesson\n",
        "for link in lesson_link:\n",
        "  # re-send the HTTP Get requests and parse the HTML content inside the article\n",
        "  response_link = requests.get(link, headers=headers)\n",
        "  soup_link = BeautifulSoup(response_link.text, \"html.parser\")\n",
        "\n",
        "  description = soup_link.select('.lessonDescription')\n",
        "\n",
        "  # check if description is found on the page\n",
        "  if description:\n",
        "    # extract the description text and clean the source by removing extra spaces and newline characters\n",
        "    description_text = description[0].get_text()\n",
        "    cleaned_description = ' '.join(description_text.split())\n",
        "\n",
        "    lesson_description.append(cleaned_description)\n",
        "\n",
        "print(lesson_description)"
      ],
      "metadata": {
        "colab": {
          "base_uri": "https://localhost:8080/"
        },
        "id": "F90ZI3L0ZLvJ",
        "outputId": "35da6618-058d-4d7d-d212-b94984f2b5cd"
      },
      "execution_count": 84,
      "outputs": [
        {
          "output_type": "stream",
          "name": "stdout",
          "text": [
            "['Although standardized testing is a particularly hot topic in education right now, this approach to measurement has been in use for two millennia. And while the results of standardized testing can help us understand some things, they can also be misleading if used incorrectly. So what do these tests actually measure? And are they worthwhile? Arlo Kempf investigates.', 'Forget home economics and standardized tests, education visionary Trish Millines Dziko has a much more engaging and fulfilling way for students to develop real-world skills. Get schooled by Dziko as she shares how project-based learning can transform public education and unlock genius for the next generation of critical thinkers, problem solvers, ideators and leaders.', 'Most American students strive for a 4.0 GPA and the highest test scores, but research shows that this quest for perfection actually discourages creativity and reduces academic risk-taking. In this episode of “School Myths” by The Atlantic, Alice Roth investigates why grades aren’t everything when it comes to education.', 'Have you ever walked into a grocery store and wondered where all the varieties of apples came from? You might find SnapDragon, Pixie Crunch, Cosmic Crisp, Jazz, or Ambrosia next to the more familiar Red Delicious and Granny Smith. So why are there so many types? Theresa Doud describes the ins and outs of breeding apples.', 'A photograph is a much better representation of a scene than a sketch, right? The School of Life explains why this might not be the case and find out why drawing something just might lead to better observation skills and understanding.', 'Flannery O’Connor scribbled tales of outcasts, intruders and misfits staged in the world she knew best: the American South. She was a master of the grotesque, but her work pushed beyond the purely ridiculous and frightening to reveal the variety and nuance of human character. Iseult Gillespie explores how O’Connor’s endlessly surprising fictional worlds continue to draw readers decades later.', 'Dyslexia affects up to 1 in 5 people, but the experience of dyslexia isn\\'t always the same. This difficulty in processing language exists along a spectrum -- one that doesn\\'t necessarily fit with labels like \"normal\" and \"defective.\" Kelli Sandman-Hurley urges us to think again about dyslexic brain function and to celebrate the neurodiversity of the human brain.', 'It took a life-threatening condition to jolt chemistry teacher Ramsey Musallam out of ten years of \"pseudo-teaching\" to understand the true role of the educator: to cultivate curiosity. In a fun and personal talk, Musallam gives 3 rules to spark imagination and learning, and get students excited about how the world works.', 'Teachers emotionally support our kids — but who\\'s supporting our teachers? In this eye-opening talk, educator Sydney Jensen explores how teachers are at risk of \"secondary trauma\" — the idea that they absorb the emotional weight of their students\\' experiences — and shows how schools can get creative in supporting everyone\\'s mental health and wellness.', 'Remember learning about the food pyramid in health class? As it turns out, it was based on a lot of misinformation about nutrition. The Atlantic explores the source of some of the lasting myths about healthy foods and fitness and the new science shaping health class today.', 'In 1905, psychologists Alfred Binet and Théodore Simon designed a test for children who were struggling in school in France. Designed to determine which children required individualized attention, their method formed the basis of the modern IQ test. So how do IQ tests work, and are they a true reflection of intelligence? Stefan C. Dombrowski explores how the tests have been used throughout history.', 'Every day, a sea of decisions stretches before us, and it’s impossible to make a perfect choice every time. But there are many ways to improve our chances — and one particularly effective technique is critical thinking. Samantha Agoos describes a 5-step process that may help you with any number of problems.', 'Tomorrow is the annual Brain Clash — a decathlon of mental challenges, trivia competitions, and puzzles. Amir needs a smart and capable teammate and must choose between three people; all of different ages and talents. So, who should Amir choose for the contest? Shannon Odell breaks down the idea of “smart” and explores how our brain development impacts our skills at various stages of our lives.', 'What are the challenges involved in defining and interpreting the Second Amendment? What should be an individual’s right to bear arms? Learn about the evolution of gun laws in the United States, both historically and legally, through educator Diane Wolk-Rogers from the Marjory Stoneman Douglas High School in Parkland, Florida. Wolk-Rogers offers three ways Americans can move forward to create more safety and responsibility around guns.', \"William Faulkner is considered one of America’s most remarkable and perplexing writers. He confused his audience intentionally, using complex sentences, unreliable narrators, and outlandish imagery. His body of work is shocking, inventive, hilarious, and challenging. So how can readers navigate his literary labyrinths? Sascha Morrell explains how to read one of literature's most confusing writers.\", 'Wearing a mask is a cheap and easy way to help stop the spread of airborne infections like COVID-19. It’s also a sign that you want to help protect other people and have them protect you… that we’re all in this together. It’s Okay To Be Smart shares a slow-motion imaging experiment to demonstrate why masks work.', 'The victory of the underdog. The last minute penalty shot that wins the tournament. The training montage. Many people love to glorify victory on the field, cheer for teams, and play sports. But should we be obsessed with sports? Are sports as good for us as we make them out to be, or are they just a fun and entertaining pastime? Leah Lagos and Jaspal Ricky Singh show what science has to say on the matter.', 'It’s 4am, and the big test is in 8 hours. You’ve been studying for days, but you still don’t feel ready. Should you drink another cup of coffee and spend the next few hours cramming? Or should you go to sleep? Shai Marcu defends the latter option, showing how sleep restructures your brain in a way that’s crucial for how our memory works.', 'You might consider yourself a visual learner, but is there really a way to categorize different types of students? SciShow takes a closer look.', \"When one of Liz Kleinrock's fourth-grade students said the unthinkable at the start of a class on race, she knew it was far too important a teachable moment to miss. But where to start? Learn how Kleinrock teaches kids to discuss taboo topics without fear— because the best way to start solving social problems is to talk about them.\", 'When Michael Bierut was tapped to design a logo for public school libraries, he had no idea he was embarking on a years-long passion project. In this often hilarious talk, he recalls his obsessive quest to bring energy, learning, art and graphics into these magical spaces where school librarians can inspire new generations of readers and thinkers.', 'Has anyone ever told you, “Stand up straight!” or scolded you for slouching at a family dinner? Comments like that might be annoying—but they’re not wrong. Your posture is the foundation for every movement your body makes and can determine how well your body adapts to the stresses on it. Murat Dalkilinç gives the pros of good posture.', \"You've probably guessed by now that your eyes won't go square from watching too much TV, but are there other side effects? ASAPScience investigates.\", 'Math is full of symbols: lines, dots, arrows, English letters, Greek letters, superscripts, subscripts ... it can look like an illegible jumble. Where did all of these symbols come from? John David Walters shares the origins of mathematical symbols, and illuminates why they’re still so important in the field today.']\n"
          ]
        }
      ]
    },
    {
      "cell_type": "code",
      "source": [
        "# create video lesson link list\n",
        "video_lesson_link = []\n",
        "\n",
        "# loop through the 'lesson_link' link, where each link redirects to a lesson\n",
        "for link in lesson_link:\n",
        "  # re-send the HTTP Get requests and parse the HTML content inside the article\n",
        "  response_link = requests.get(link, headers=headers)\n",
        "  soup_link = BeautifulSoup(response_link.text, \"html.parser\")\n",
        "\n",
        "  # extract the lesson video link\n",
        "  video_link = soup_link.select('#playerContainer')\n",
        "  video_lesson_link.append(\"https://youtu.be/\" + video_link[0].attrs.get('data-video-id'))\n",
        "\n",
        "print(video_lesson_link)"
      ],
      "metadata": {
        "colab": {
          "base_uri": "https://localhost:8080/"
        },
        "id": "u4800rsqXgDH",
        "outputId": "4f438ee7-11a1-4294-dca0-7c62b7a9f5a2"
      },
      "execution_count": 85,
      "outputs": [
        {
          "output_type": "stream",
          "name": "stdout",
          "text": [
            "['https://youtu.be/YtE0OsRWeYI', 'https://youtu.be/SUDMIA23_5s', 'https://youtu.be/KShfEMy8UZQ', 'https://youtu.be/mQePz62zkqA', 'https://youtu.be/k1eHm0PNnjo', 'https://youtu.be/9QVsGWsk7TU', 'https://youtu.be/zafiGBrFkRM', 'https://youtu.be/YsYHqfk0X2A', 'https://youtu.be/OfCLTQhW9GQ', 'https://youtu.be/pkzunP1s6cY', 'https://youtu.be/W2bKaw2AJxs', 'https://youtu.be/dItUGF8GdTw', 'https://youtu.be/sbCvQbBi2G8', 'https://youtu.be/kuT7zWZEwl0', 'https://youtu.be/wYQWh8VGL3M', 'https://youtu.be/0Tp0zB904Mc', 'https://youtu.be/hmFQqjMF_f0', 'https://youtu.be/gedoSfZvBgE', 'https://youtu.be/V-S_53HmEUA', 'https://youtu.be/G9-urSR19SI', 'https://youtu.be/YsA_JTeHJ6A', 'https://youtu.be/OyK0oE5rwFY', 'https://youtu.be/KJRzgl0FuMA', 'https://youtu.be/eVm063xmnow']\n"
          ]
        }
      ]
    },
    {
      "cell_type": "markdown",
      "source": [
        "# Step 5. Save as DataFrame and store it as CSV for further analysis"
      ],
      "metadata": {
        "id": "uLt8bCcUmETC"
      }
    },
    {
      "cell_type": "code",
      "source": [
        "print(len(lesson_title))\n",
        "print(len(lesson_link))\n",
        "print(len(lesson_category))\n",
        "print(len(lesson_duration))\n",
        "print(len(lesson_image_link))\n",
        "print(len(lesson_viewers))\n",
        "print(len(lesson_description))\n",
        "print(len(video_lesson_link))"
      ],
      "metadata": {
        "colab": {
          "base_uri": "https://localhost:8080/"
        },
        "id": "SjPkM475nmhR",
        "outputId": "47e678ae-5c05-485e-9647-f7075cd4bc0a"
      },
      "execution_count": 86,
      "outputs": [
        {
          "output_type": "stream",
          "name": "stdout",
          "text": [
            "24\n",
            "24\n",
            "24\n",
            "24\n",
            "24\n",
            "24\n",
            "24\n",
            "24\n"
          ]
        }
      ]
    },
    {
      "cell_type": "code",
      "source": [
        "df = pd.DataFrame(\n",
        "    {'Title': lesson_title,\n",
        "     'Category' : lesson_category,\n",
        "     'Duration': lesson_duration,\n",
        "     'Viewers': lesson_viewers,\n",
        "     'Description': lesson_description,\n",
        "     'Video Link' : video_lesson_link,\n",
        "     'Image Link' : lesson_image_link,\n",
        "     'Lesson Link': lesson_link\n",
        "     }\n",
        ")\n",
        "\n",
        "print(df.head())\n",
        "\n",
        "df.to_csv('tededlesson.csv', index=False)"
      ],
      "metadata": {
        "colab": {
          "base_uri": "https://localhost:8080/"
        },
        "id": "A-ssFXnxJUVl",
        "outputId": "42b9d46c-3756-41dd-c14d-53ffd161b6cc"
      },
      "execution_count": 87,
      "outputs": [
        {
          "output_type": "stream",
          "name": "stdout",
          "text": [
            "                                               Title              Category  \\\n",
            "0         Should we get rid of standardized testing?      Education Policy   \n",
            "1  How schools can nurture every student's genius...  Teaching & Education   \n",
            "2                    Why perfect grades don't matter  Teaching & Education   \n",
            "3             Why are there so many types of apples?  Science & Technology   \n",
            "4      Why we should draw more (and photograph less)  Teaching & Education   \n",
            "\n",
            "  Duration    Viewers                                        Description  \\\n",
            "0    05:41  1,138,424  Although standardized testing is a particularl...   \n",
            "1    15:41     68,558  Forget home economics and standardized tests, ...   \n",
            "2    04:58  4,331,796  Most American students strive for a 4.0 GPA an...   \n",
            "3    04:28  1,024,319  Have you ever walked into a grocery store and ...   \n",
            "4    02:53    366,667  A photograph is a much better representation o...   \n",
            "\n",
            "                     Video Link                                Image Link  \\\n",
            "0  https://youtu.be/YtE0OsRWeYI  https://i.ytimg.com/vi/YtE0OsRWeYI/0.jpg   \n",
            "1  https://youtu.be/SUDMIA23_5s  https://i.ytimg.com/vi/SUDMIA23_5s/0.jpg   \n",
            "2  https://youtu.be/KShfEMy8UZQ  https://i.ytimg.com/vi/KShfEMy8UZQ/0.jpg   \n",
            "3  https://youtu.be/mQePz62zkqA  https://i.ytimg.com/vi/mQePz62zkqA/0.jpg   \n",
            "4  https://youtu.be/k1eHm0PNnjo  https://i.ytimg.com/vi/k1eHm0PNnjo/0.jpg   \n",
            "\n",
            "                                         Lesson Link  \n",
            "0  https://ed.ted.com//lessons/should-we-get-rid-...  \n",
            "1  https://ed.ted.com//lessons/how-schools-can-nu...  \n",
            "2           https://ed.ted.com//best_of_web/ltryN5j7  \n",
            "3  https://ed.ted.com//lessons/why-are-there-so-m...  \n",
            "4           https://ed.ted.com//best_of_web/wsuJRkkK  \n"
          ]
        }
      ]
    },
    {
      "cell_type": "code",
      "source": [],
      "metadata": {
        "id": "1ArPPjHTnehY"
      },
      "execution_count": null,
      "outputs": []
    }
  ]
}