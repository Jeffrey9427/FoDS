{
  "nbformat": 4,
  "nbformat_minor": 0,
  "metadata": {
    "colab": {
      "provenance": []
    },
    "kernelspec": {
      "name": "python3",
      "display_name": "Python 3"
    },
    "language_info": {
      "name": "python"
    }
  },
  "cells": [
    {
      "cell_type": "markdown",
      "source": [
        "# Step 1. Import the Library"
      ],
      "metadata": {
        "id": "cVS7Ttehs5Yz"
      }
    },
    {
      "cell_type": "code",
      "execution_count": 160,
      "metadata": {
        "id": "db3ip50ElV6V"
      },
      "outputs": [],
      "source": [
        "from bs4 import BeautifulSoup\n",
        "import requests\n",
        "import re\n",
        "import pandas as pd"
      ]
    },
    {
      "cell_type": "markdown",
      "source": [
        "# Step 2. Access the HTML content from the webpage by assigning the URL and creating a soup object"
      ],
      "metadata": {
        "id": "xUAOC5GRtqK_"
      }
    },
    {
      "cell_type": "code",
      "source": [
        "# Downloading cna data\n",
        "headers = {'Accept-Language': 'en-US,en;q=0.8'}\n",
        "url = 'https://www.channelnewsasia.com/international'\n",
        "response = requests.get(url,headers=headers)\n",
        "soup = BeautifulSoup(response.text, \"html.parser\")"
      ],
      "metadata": {
        "id": "OBHCgoxItPpo"
      },
      "execution_count": 191,
      "outputs": []
    },
    {
      "cell_type": "markdown",
      "source": [
        "# Step 3. Extract the File"
      ],
      "metadata": {
        "id": "IFi3GRqBupPb"
      }
    },
    {
      "cell_type": "code",
      "source": [
        "newstitle = soup.select('h6.list-object__heading')\n",
        "print(newstitle[0])\n",
        "print(\" \")\n",
        "print(\"how many titles are available? \", len(soup.select('h6.list-object__heading')))"
      ],
      "metadata": {
        "colab": {
          "base_uri": "https://localhost:8080/"
        },
        "id": "VD-iiuqHuYig",
        "outputId": "ac340c87-3b4b-4d0b-f726-652fe1b88852"
      },
      "execution_count": 192,
      "outputs": [
        {
          "output_type": "stream",
          "name": "stdout",
          "text": [
            "<h6 class=\"h6 list-object__heading\">\n",
            "<a class=\"h6__link list-object__heading-link\" href=\"/world/putin-xi-meet-october-russia-china-3782246\">\n",
            "      Putin and Xi to meet in Beijing in October, Russia says \n",
            "  </a>\n",
            "</h6>\n",
            " \n",
            "how many titles are available?  67\n"
          ]
        }
      ]
    },
    {
      "cell_type": "code",
      "source": [
        "text = soup.select('h6 a')\n",
        "print(text)"
      ],
      "metadata": {
        "colab": {
          "base_uri": "https://localhost:8080/"
        },
        "id": "-3gmhKBdwKqq",
        "outputId": "b580b878-55a8-4efb-979b-f28f522b1173"
      },
      "execution_count": 193,
      "outputs": [
        {
          "output_type": "stream",
          "name": "stdout",
          "text": [
            "[<a class=\"h6__link list-object__heading-link\" href=\"/world/putin-xi-meet-october-russia-china-3782246\">\n",
            "      Putin and Xi to meet in Beijing in October, Russia says \n",
            "  </a>, <a class=\"h6__link list-object__heading-link\" href=\"/world/libya-floods-climate-change-conflict-derna-likely-research-3782936\">\n",
            "      Climate change, conflict made Libya deluge more likely: Study\n",
            "  </a>, <a class=\"h6__link list-object__heading-link\" href=\"/business/china-files-appeal-against-wto-panel-report-us-steel-aluminium-tariffs-3783066\">\n",
            "      China files appeal against WTO panel report on US steel, aluminium tariffs\n",
            "  </a>, <a class=\"h6__link list-object__heading-link\" href=\"/world/uk-says-no-evidence-political-bank-account-closures-3783016\">\n",
            "      UK says no evidence of political bank account closures\n",
            "  </a>, <a class=\"h6__link list-object__heading-link\" href=\"/asia/philippines-activists-freed-after-alleged-military-abduction-3782986\">\n",
            "      Philippines activists freed after alleged military abduction\n",
            "  </a>, <a class=\"h6__link list-object__heading-link\" href=\"/asia/india-will-receive-heavy-monsoon-rains-september-says-weather-chief-3782781\">\n",
            "      India will receive heavy monsoon rains in September, says weather chief\n",
            "  </a>, <a class=\"h6__link list-object__heading-link\" href=\"/world/strained-ties-relations-between-india-canada-accusations-sikh-leader-murder-3782811\">\n",
            "      Strained ties between India, Canada hit 'new low' after accusation of Sikh leader's murder\n",
            "  </a>, <a class=\"h6__link list-object__heading-link\" href=\"/business/taiwans-tsmc-help-train-german-students-semiconductor-careers-3782786\">\n",
            "      Taiwan's TSMC to help train German students for semiconductor careers\n",
            "  </a>, <a class=\"h6__link list-object__heading-link\" href=\"/world/strained-ties-relations-between-india-canada-accusations-sikh-leader-murder-3782811\">\n",
            "      Strained ties between India, Canada hit 'new low' after accusation of Sikh leader's murder\n",
            "  </a>, <a class=\"h6__link list-object__heading-link\" href=\"/world/sikh-movement-hardeep-singh-nijjar-canada-india-3782136\">\n",
            "      What to know about the Sikh movement at the centre of tensions between India and Canada\n",
            "  </a>, <a class=\"h6__link list-object__heading-link\" href=\"/asia/china-former-foreign-minister-qin-gang-extramarital-affair-3781751\">\n",
            "      China's ex-foreign minister Qin Gang was ousted after alleged affair: Report\n",
            "  </a>, <a class=\"h6__link list-object__heading-link\" href=\"/asia/rice-farmers-rejoicing-consumers-frowning-thailand-amid-global-price-spikes-and-shortages-3779911\">\n",
            "      Rice farmers rejoicing but consumers frowning in Thailand amid global price spikes and shortages\n",
            "  </a>, <a class=\"h6__link list-object__heading-link\" href=\"/asia/thaksin-surgery-thailand-paetongtarn-shinawatra-3782636\">\n",
            "      Thai ex-PM Thaksin had surgery last week, daughter says\n",
            "  </a>, <a class=\"h6__link list-object__heading-link\" href=\"/wellness/dermal-fillers-blindness-vascular-occlusion-blood-vessel-blockage-3775666\">\n",
            "      Dermal fillers and blindness: What causes it? Can it be reversed? What are the signs that something is wrong?\n",
            "  </a>, <a class=\"h6__link list-object__heading-link\" href=\"/asia/thailand-king-son-urges-open-discussion-royal-insult-law-3782631\">\n",
            "      Thai king's son urges open discussion of royal insult law\n",
            "  </a>, <a class=\"h6__link list-object__heading-link\" href=\"/singapore/woman-blind-dermal-fillers-aesthefill-parvus-accidental-injection-bloodstream-3782191\">\n",
            "      Blindness caused by 'inadvertent' injection of dermal filler into bloodstream; product is safe, says distributor\n",
            "  </a>, <a class=\"h6__link list-object__heading-link\" href=\"/singapore/murder-girls-remains-pot-father-jailed-caning-3781291\">\n",
            "      Man who killed 2-year-old daughter, left charred remains in pot gets over 21 years’ jail, caning\n",
            "  </a>, <a class=\"h6__link list-object__heading-link\" href=\"/singapore/airlines-leave-luggage-behind-weather-conditions-scoot-cna-explains-3779361\">\n",
            "      CNA Explains: Why do airlines offload luggage when faced with adverse weather conditions?\n",
            "  </a>, <a class=\"h6__link list-object__heading-link\" href=\"/world/united-states-missing-military-f-35-stealth-jet-debris-found-3781401\">\n",
            "      US finds debris from missing F-35\n",
            "  </a>, <a class=\"h6__link list-object__heading-link\" href=\"/asia/asean-first-joint-military-drills-indonesia-natuna-south-china-sea-3782106\">\n",
            "      ASEAN kicks off its first-ever joint military drills in Indonesia \n",
            "  </a>, <a class=\"h6__link list-object__heading-link\" href=\"/world/graft-accusations-dog-top-zelenskyy-aides-3782431\">\n",
            "      Graft accusations dog top Zelenskyy aides\n",
            "  </a>, <a class=\"h6__link list-object__heading-link\" href=\"/commentary/china-south-china-sea-map-ten-dash-line-3777486\">\n",
            "      Commentary: What one more dash in the South China Sea tells us about China’s game\n",
            "  </a>, <a class=\"h6__link list-object__heading-link\" href=\"/business/elon-musk-says-x-twitter-charge-all-users-small-monthly-payment-3782181\">\n",
            "      Musk says X could charge all users 'small monthly payment'\n",
            "  </a>, <a class=\"h6__link list-object__heading-link\" href=\"/business/starbucks-china-new-shanghai-plant-coffee-3782231\">\n",
            "      Starbucks opens US$220 million plant outside Shanghai\n",
            "  </a>, <a class=\"h6__link list-object__heading-link\" href=\"/asia/china-wedding-industry-marriage-rates-decline-spending-3781406\">\n",
            "      Fewer 'I dos' ruin the party for China's US$500 billion wedding industry\n",
            "  </a>, <a class=\"h6__link list-object__heading-link\" href=\"/world/ukraine-war-russia-invasion-international-support-aid-crucial-analysts-3782101\">\n",
            "      International support crucial as Ukraine continues counteroffensive in drawn-out war: Observers\n",
            "  </a>, <a class=\"h6__link list-object__heading-link\" href=\"/asia/india-will-receive-heavy-monsoon-rains-september-says-weather-chief-3782781\">\n",
            "      India will receive heavy monsoon rains in September, says weather chief\n",
            "  </a>, <a class=\"h6__link list-object__heading-link\" href=\"/sport/hong-kong-fencing-pwoerhouse-edgar-cheung-olympic-gold-asian-games-3781746\">\n",
            "      How Hong Kong became a fencing powerhouse and cheered up a city\n",
            "  </a>, <a class=\"h6__link list-object__heading-link\" href=\"/asia/thailand-tourism-19-million-foreign-tourists-visa-3781776\">\n",
            "      Thailand records 19 million foreign tourists so far this year\n",
            "  </a>, <a class=\"h6__link list-object__heading-link\" href=\"/world/oyster-farmers-australia-expand-tourism-offer-water-dining-experience-keep-industry-alive-3782091\">\n",
            "      Oyster farmers in Australia expand into tourism, offer in-water dining experience to keep industry alive\n",
            "  </a>, <a class=\"h6__link list-object__heading-link\" href=\"/world/libya-floods-climate-change-conflict-derna-likely-research-3782936\">\n",
            "      Climate change, conflict made Libya deluge more likely: Study\n",
            "  </a>, <a class=\"h6__link list-object__heading-link\" href=\"/watch/oyster-farmers-australia-expand-tourism-keep-industry-alive-video-3782731\">\n",
            "      Oyster farmers in Australia expand into tourism to keep industry alive | Video\n",
            "  </a>, <a class=\"h6__link list-object__heading-link\" href=\"/world/australia-sydney-issues-first-total-fire-ban-schools-shut-heat-wave-bushfires-3781116\">\n",
            "      Sydney issues total fire bans as spring heatwave grips Australia\n",
            "  </a>, <a class=\"h6__link list-object__heading-link\" href=\"/world/us-president-joe-biden-running-re-election-democracy-stake-donald-trump-3781181\">\n",
            "      In New York, Biden says he is running for re-election because democracy is at stake\n",
            "  </a>, <a class=\"h6__link list-object__heading-link\" href=\"/world/ukraine-says-punctured-russian-defence-lines-zelenskyy-arrives-new-york-3779181\">\n",
            "      Ukraine says punctured Russian defence lines as Zelenskyy arrives in New York\n",
            "  </a>, <a class=\"h6__link list-object__heading-link\" href=\"/singapore/singapore-post-singpost-postage-rates-increase-20-cents-65-cent-rising-cost-3781176\">\n",
            "      SingPost increases postage rate for standard regular mail by 65% amid rising costs\n",
            "  </a>, <a class=\"h6__link list-object__heading-link\" href=\"/singapore/pub-ceo-ong-tze-chin-goh-si-hou-former-chief-army-3782071\">\n",
            "      Former SkillsFuture chief executive Ong Tze-Ch’in to take over as chief executive of PUB\n",
            "  </a>, <a class=\"h6__link list-object__heading-link\" href=\"/singapore/public-transport-council-fare-hike-analysts-reasonable-costs-3779801\">\n",
            "      Public transport fare hike is small compared to the increase in operating costs, analysts say\n",
            "  </a>, <a class=\"h6__link list-object__heading-link\" href=\"/singapore/mrt-bus-fare-increase-10-11-cents-public-transport-council-3779086\">\n",
            "      Public transport fare hike: Adults to pay 10 to 11 cents more per journey from Dec 23\n",
            "  </a>, <a class=\"h6__link list-object__heading-link\" href=\"/singapore/mha-home-team-officers-disciplined-workplace-discrimination-3781431\">\n",
            "      Home Team officers disciplined in 131 cases of workplace discrimination over last 5 years\n",
            "  </a>, <a class=\"h6__link list-object__heading-link\" href=\"/singapore/east-asia-forum-nus-academic-sorry-flawed-biased-article-political-controversies-singapore-3781171\">\n",
            "      NUS academic 'truly sorry' for 'flawed and biased' article on recent political controversies, retracts it from website\n",
            "  </a>, <a class=\"h6__link list-object__heading-link\" href=\"/commentary/only-child-social-development-sibling-parent-family-research-3778931\">\n",
            "      Commentary: Being an only child doesn’t affect your development - family background matters more\n",
            "  </a>, <a class=\"h6__link list-object__heading-link\" href=\"/commentary/lazy-girl-job-tiktok-flexible-office-task-pay-work-life-balance-3776376\">\n",
            "      Commentary: TikTok influencers peddle ‘lazy girl jobs’, but there’s no such thing as a high-paying, low-stress job\n",
            "  </a>, <a class=\"h6__link list-object__heading-link\" href=\"/commentary/travel-holiday-destination-beach-heatwave-climate-change-3773616\">\n",
            "      Commentary: Going on holiday will look very different because of climate change\n",
            "  </a>, <a class=\"h6__link list-object__heading-link\" href=\"/commentary/singapore-bird-mandarin-duck-parakeet-native-invasive-3771581\">\n",
            "      Commentary: Should we be worried about mandarin ducks and parakeets squeezing out Singapore’s native birds?\n",
            "  </a>, <a class=\"h6__link list-object__heading-link\" href=\"/commentary/china-ev-electric-vehicle-batteries-market-europe-3773401\">\n",
            "      Commentary: China is so far ahead in the EV market it’s a warning for Europe\n",
            "  </a>, <a class=\"h6__link list-object__heading-link\" href=\"/commentary/open-plan-office-noisy-colleague-effects-mood-productivity-tips-3773436\">\n",
            "      Commentary: 'This desk is mine' - how noisy offices can make us more territorial\n",
            "  </a>, <a class=\"h6__link list-object__heading-link\" href=\"/business/google-announces-new-bard-features-traffic-continues-lag-chatgpt-3782401\">\n",
            "      Google announces new Bard features as traffic continues to lag ChatGPT\n",
            "  </a>, <a class=\"h6__link list-object__heading-link\" href=\"/business/hitachi-seeks-eu-okay-thales-deal-asset-sales-france-germany-3780746\">\n",
            "      Hitachi seeks EU okay for Thales deal with asset sales in France, Germany\n",
            "  </a>, <a class=\"h6__link list-object__heading-link\" href=\"/world/israeli-pm-netanyahu-urges-musk-fight-anti-semitism-3780616\">\n",
            "      Israeli PM Netanyahu urges Musk to fight anti-Semitism\n",
            "  </a>, <a class=\"h6__link list-object__heading-link\" href=\"/business/portugals-telecom-watchdog-working-operators-bar-huawei-3780436\">\n",
            "      Portugal's telecom watchdog working with operators to bar Huawei\n",
            "  </a>, <a class=\"h6__link list-object__heading-link\" href=\"/business/hyundai-motors-south-korea-union-accepts-12-wage-hike-deal-3780101\">\n",
            "      Hyundai Motor's South Korea union accepts 12% wage hike deal\n",
            "  </a>, <a class=\"h6__link list-object__heading-link\" href=\"/business/arm-holdings-options-draw-robust-trading-volume-shares-slide-3780331\">\n",
            "      Arm Holdings options draw robust trading volume as shares slide\n",
            "  </a>, <a class=\"h6__link list-object__heading-link\" href=\"/wellness/dermal-fillers-blindness-vascular-occlusion-blood-vessel-blockage-3775666\">\n",
            "      Dermal fillers and blindness: What causes it? Can it be reversed? What are the signs that something is wrong?\n",
            "  </a>, <a class=\"h6__link list-object__heading-link\" href=\"/dining/bacata-colombian-restaurant-singapore-3761551\">\n",
            "      New restaurant Bacata explores Colombian food and what it has in common with nasi lemak\n",
            "  </a>, <a class=\"h6__link list-object__heading-link\" href=\"/experiences/luxury-resort-velaa-private-island-maldives-3778326\">\n",
            "      At this private island resort in the Maldives, it’s hard to get away\n",
            "  </a>, <a class=\"h6__link list-object__heading-link\" href=\"/sport/spain-players-reiterate-strike-intention-despite-national-call-3780871\">\n",
            "      Spain players reiterate strike intention despite national call-up\n",
            "  </a>, <a class=\"h6__link list-object__heading-link\" href=\"/sport/spanish-court-throws-out-rubiales-pre-kiss-defamation-lawsuit-3780136\">\n",
            "      Spanish court throws out Rubiales' pre-kiss defamation lawsuit\n",
            "  </a>, <a class=\"h6__link list-object__heading-link\" href=\"/sport/iranians-give-ronaldo-rapturous-welcome-tehran-3780106\">\n",
            "      Iranians give Ronaldo rapturous welcome in Tehran\n",
            "  </a>, <a class=\"h6__link list-object__heading-link\" href=\"/world/putin-xi-meet-october-russia-china-3782246\">\n",
            "      Putin and Xi to meet in Beijing in October, Russia says \n",
            "  </a>, <a class=\"h6__link list-object__heading-link\" href=\"/world/libya-floods-climate-change-conflict-derna-likely-research-3782936\">\n",
            "      Climate change, conflict made Libya deluge more likely: Study\n",
            "  </a>, <a class=\"h6__link list-object__heading-link\" href=\"/business/china-files-appeal-against-wto-panel-report-us-steel-aluminium-tariffs-3783066\">\n",
            "      China files appeal against WTO panel report on US steel, aluminium tariffs\n",
            "  </a>, <a class=\"h6__link list-object__heading-link\" href=\"/world/uk-says-no-evidence-political-bank-account-closures-3783016\">\n",
            "      UK says no evidence of political bank account closures\n",
            "  </a>, <a class=\"h6__link list-object__heading-link\" href=\"/asia/philippines-activists-freed-after-alleged-military-abduction-3782986\">\n",
            "      Philippines activists freed after alleged military abduction\n",
            "  </a>, <a class=\"h6__link list-object__heading-link\" href=\"/asia/india-will-receive-heavy-monsoon-rains-september-says-weather-chief-3782781\">\n",
            "      India will receive heavy monsoon rains in September, says weather chief\n",
            "  </a>, <a class=\"h6__link list-object__heading-link\" href=\"/world/strained-ties-relations-between-india-canada-accusations-sikh-leader-murder-3782811\">\n",
            "      Strained ties between India, Canada hit 'new low' after accusation of Sikh leader's murder\n",
            "  </a>, <a class=\"h6__link list-object__heading-link\" href=\"/business/taiwans-tsmc-help-train-german-students-semiconductor-careers-3782786\">\n",
            "      Taiwan's TSMC to help train German students for semiconductor careers\n",
            "  </a>]\n"
          ]
        }
      ]
    },
    {
      "cell_type": "code",
      "source": [
        "links = []\n",
        "\n",
        "for a in soup.select('h6 a'):\n",
        "  links.append('https://www.channelnewsasia.com' + a.attrs.get('href'))\n",
        "\n",
        "print(links[0])"
      ],
      "metadata": {
        "colab": {
          "base_uri": "https://localhost:8080/"
        },
        "id": "LtNmEBnxy5_e",
        "outputId": "d9c74c3b-f1e3-4a32-ca5a-b972be24677b"
      },
      "execution_count": 194,
      "outputs": [
        {
          "output_type": "stream",
          "name": "stdout",
          "text": [
            "https://www.channelnewsasia.com/world/putin-xi-meet-october-russia-china-3782246\n"
          ]
        }
      ]
    },
    {
      "cell_type": "markdown",
      "source": [
        "# Step 4. Looping the process and storing the data"
      ],
      "metadata": {
        "id": "tq5FWZg7zmMA"
      }
    },
    {
      "cell_type": "code",
      "source": [
        "# create article title and links list\n",
        "article_title = []\n",
        "article_link = []\n",
        "\n",
        "for a in soup.select('h6 a'):\n",
        "  # extract the article title text and clean the title by removing extra spaces and newline characters\n",
        "  title = a.get_text()\n",
        "  cleaned_title = ' '.join(title.split())\n",
        "\n",
        "  article_title.append(cleaned_title)\n",
        "\n",
        "  # extract the article link\n",
        "  article_link.append('https://www.channelnewsasia.com' + a.attrs.get('href'))\n",
        "\n",
        "print(article_title)\n",
        "print(article_link)"
      ],
      "metadata": {
        "colab": {
          "base_uri": "https://localhost:8080/"
        },
        "id": "oHsbgFO9E2PS",
        "outputId": "0964616c-d0ed-4f27-8af5-d2bc9856798d"
      },
      "execution_count": 195,
      "outputs": [
        {
          "output_type": "stream",
          "name": "stdout",
          "text": [
            "['Putin and Xi to meet in Beijing in October, Russia says', 'Climate change, conflict made Libya deluge more likely: Study', 'China files appeal against WTO panel report on US steel, aluminium tariffs', 'UK says no evidence of political bank account closures', 'Philippines activists freed after alleged military abduction', 'India will receive heavy monsoon rains in September, says weather chief', \"Strained ties between India, Canada hit 'new low' after accusation of Sikh leader's murder\", \"Taiwan's TSMC to help train German students for semiconductor careers\", \"Strained ties between India, Canada hit 'new low' after accusation of Sikh leader's murder\", 'What to know about the Sikh movement at the centre of tensions between India and Canada', \"China's ex-foreign minister Qin Gang was ousted after alleged affair: Report\", 'Rice farmers rejoicing but consumers frowning in Thailand amid global price spikes and shortages', 'Thai ex-PM Thaksin had surgery last week, daughter says', 'Dermal fillers and blindness: What causes it? Can it be reversed? What are the signs that something is wrong?', \"Thai king's son urges open discussion of royal insult law\", \"Blindness caused by 'inadvertent' injection of dermal filler into bloodstream; product is safe, says distributor\", 'Man who killed 2-year-old daughter, left charred remains in pot gets over 21 years’ jail, caning', 'CNA Explains: Why do airlines offload luggage when faced with adverse weather conditions?', 'US finds debris from missing F-35', 'ASEAN kicks off its first-ever joint military drills in Indonesia', 'Graft accusations dog top Zelenskyy aides', 'Commentary: What one more dash in the South China Sea tells us about China’s game', \"Musk says X could charge all users 'small monthly payment'\", 'Starbucks opens US$220 million plant outside Shanghai', \"Fewer 'I dos' ruin the party for China's US$500 billion wedding industry\", 'International support crucial as Ukraine continues counteroffensive in drawn-out war: Observers', 'India will receive heavy monsoon rains in September, says weather chief', 'How Hong Kong became a fencing powerhouse and cheered up a city', 'Thailand records 19 million foreign tourists so far this year', 'Oyster farmers in Australia expand into tourism, offer in-water dining experience to keep industry alive', 'Climate change, conflict made Libya deluge more likely: Study', 'Oyster farmers in Australia expand into tourism to keep industry alive | Video', 'Sydney issues total fire bans as spring heatwave grips Australia', 'In New York, Biden says he is running for re-election because democracy is at stake', 'Ukraine says punctured Russian defence lines as Zelenskyy arrives in New York', 'SingPost increases postage rate for standard regular mail by 65% amid rising costs', 'Former SkillsFuture chief executive Ong Tze-Ch’in to take over as chief executive of PUB', 'Public transport fare hike is small compared to the increase in operating costs, analysts say', 'Public transport fare hike: Adults to pay 10 to 11 cents more per journey from Dec 23', 'Home Team officers disciplined in 131 cases of workplace discrimination over last 5 years', \"NUS academic 'truly sorry' for 'flawed and biased' article on recent political controversies, retracts it from website\", 'Commentary: Being an only child doesn’t affect your development - family background matters more', 'Commentary: TikTok influencers peddle ‘lazy girl jobs’, but there’s no such thing as a high-paying, low-stress job', 'Commentary: Going on holiday will look very different because of climate change', 'Commentary: Should we be worried about mandarin ducks and parakeets squeezing out Singapore’s native birds?', 'Commentary: China is so far ahead in the EV market it’s a warning for Europe', \"Commentary: 'This desk is mine' - how noisy offices can make us more territorial\", 'Google announces new Bard features as traffic continues to lag ChatGPT', 'Hitachi seeks EU okay for Thales deal with asset sales in France, Germany', 'Israeli PM Netanyahu urges Musk to fight anti-Semitism', \"Portugal's telecom watchdog working with operators to bar Huawei\", \"Hyundai Motor's South Korea union accepts 12% wage hike deal\", 'Arm Holdings options draw robust trading volume as shares slide', 'Dermal fillers and blindness: What causes it? Can it be reversed? What are the signs that something is wrong?', 'New restaurant Bacata explores Colombian food and what it has in common with nasi lemak', 'At this private island resort in the Maldives, it’s hard to get away', 'Spain players reiterate strike intention despite national call-up', \"Spanish court throws out Rubiales' pre-kiss defamation lawsuit\", 'Iranians give Ronaldo rapturous welcome in Tehran', 'Putin and Xi to meet in Beijing in October, Russia says', 'Climate change, conflict made Libya deluge more likely: Study', 'China files appeal against WTO panel report on US steel, aluminium tariffs', 'UK says no evidence of political bank account closures', 'Philippines activists freed after alleged military abduction', 'India will receive heavy monsoon rains in September, says weather chief', \"Strained ties between India, Canada hit 'new low' after accusation of Sikh leader's murder\", \"Taiwan's TSMC to help train German students for semiconductor careers\"]\n",
            "['https://www.channelnewsasia.com/world/putin-xi-meet-october-russia-china-3782246', 'https://www.channelnewsasia.com/world/libya-floods-climate-change-conflict-derna-likely-research-3782936', 'https://www.channelnewsasia.com/business/china-files-appeal-against-wto-panel-report-us-steel-aluminium-tariffs-3783066', 'https://www.channelnewsasia.com/world/uk-says-no-evidence-political-bank-account-closures-3783016', 'https://www.channelnewsasia.com/asia/philippines-activists-freed-after-alleged-military-abduction-3782986', 'https://www.channelnewsasia.com/asia/india-will-receive-heavy-monsoon-rains-september-says-weather-chief-3782781', 'https://www.channelnewsasia.com/world/strained-ties-relations-between-india-canada-accusations-sikh-leader-murder-3782811', 'https://www.channelnewsasia.com/business/taiwans-tsmc-help-train-german-students-semiconductor-careers-3782786', 'https://www.channelnewsasia.com/world/strained-ties-relations-between-india-canada-accusations-sikh-leader-murder-3782811', 'https://www.channelnewsasia.com/world/sikh-movement-hardeep-singh-nijjar-canada-india-3782136', 'https://www.channelnewsasia.com/asia/china-former-foreign-minister-qin-gang-extramarital-affair-3781751', 'https://www.channelnewsasia.com/asia/rice-farmers-rejoicing-consumers-frowning-thailand-amid-global-price-spikes-and-shortages-3779911', 'https://www.channelnewsasia.com/asia/thaksin-surgery-thailand-paetongtarn-shinawatra-3782636', 'https://www.channelnewsasia.com/wellness/dermal-fillers-blindness-vascular-occlusion-blood-vessel-blockage-3775666', 'https://www.channelnewsasia.com/asia/thailand-king-son-urges-open-discussion-royal-insult-law-3782631', 'https://www.channelnewsasia.com/singapore/woman-blind-dermal-fillers-aesthefill-parvus-accidental-injection-bloodstream-3782191', 'https://www.channelnewsasia.com/singapore/murder-girls-remains-pot-father-jailed-caning-3781291', 'https://www.channelnewsasia.com/singapore/airlines-leave-luggage-behind-weather-conditions-scoot-cna-explains-3779361', 'https://www.channelnewsasia.com/world/united-states-missing-military-f-35-stealth-jet-debris-found-3781401', 'https://www.channelnewsasia.com/asia/asean-first-joint-military-drills-indonesia-natuna-south-china-sea-3782106', 'https://www.channelnewsasia.com/world/graft-accusations-dog-top-zelenskyy-aides-3782431', 'https://www.channelnewsasia.com/commentary/china-south-china-sea-map-ten-dash-line-3777486', 'https://www.channelnewsasia.com/business/elon-musk-says-x-twitter-charge-all-users-small-monthly-payment-3782181', 'https://www.channelnewsasia.com/business/starbucks-china-new-shanghai-plant-coffee-3782231', 'https://www.channelnewsasia.com/asia/china-wedding-industry-marriage-rates-decline-spending-3781406', 'https://www.channelnewsasia.com/world/ukraine-war-russia-invasion-international-support-aid-crucial-analysts-3782101', 'https://www.channelnewsasia.com/asia/india-will-receive-heavy-monsoon-rains-september-says-weather-chief-3782781', 'https://www.channelnewsasia.com/sport/hong-kong-fencing-pwoerhouse-edgar-cheung-olympic-gold-asian-games-3781746', 'https://www.channelnewsasia.com/asia/thailand-tourism-19-million-foreign-tourists-visa-3781776', 'https://www.channelnewsasia.com/world/oyster-farmers-australia-expand-tourism-offer-water-dining-experience-keep-industry-alive-3782091', 'https://www.channelnewsasia.com/world/libya-floods-climate-change-conflict-derna-likely-research-3782936', 'https://www.channelnewsasia.com/watch/oyster-farmers-australia-expand-tourism-keep-industry-alive-video-3782731', 'https://www.channelnewsasia.com/world/australia-sydney-issues-first-total-fire-ban-schools-shut-heat-wave-bushfires-3781116', 'https://www.channelnewsasia.com/world/us-president-joe-biden-running-re-election-democracy-stake-donald-trump-3781181', 'https://www.channelnewsasia.com/world/ukraine-says-punctured-russian-defence-lines-zelenskyy-arrives-new-york-3779181', 'https://www.channelnewsasia.com/singapore/singapore-post-singpost-postage-rates-increase-20-cents-65-cent-rising-cost-3781176', 'https://www.channelnewsasia.com/singapore/pub-ceo-ong-tze-chin-goh-si-hou-former-chief-army-3782071', 'https://www.channelnewsasia.com/singapore/public-transport-council-fare-hike-analysts-reasonable-costs-3779801', 'https://www.channelnewsasia.com/singapore/mrt-bus-fare-increase-10-11-cents-public-transport-council-3779086', 'https://www.channelnewsasia.com/singapore/mha-home-team-officers-disciplined-workplace-discrimination-3781431', 'https://www.channelnewsasia.com/singapore/east-asia-forum-nus-academic-sorry-flawed-biased-article-political-controversies-singapore-3781171', 'https://www.channelnewsasia.com/commentary/only-child-social-development-sibling-parent-family-research-3778931', 'https://www.channelnewsasia.com/commentary/lazy-girl-job-tiktok-flexible-office-task-pay-work-life-balance-3776376', 'https://www.channelnewsasia.com/commentary/travel-holiday-destination-beach-heatwave-climate-change-3773616', 'https://www.channelnewsasia.com/commentary/singapore-bird-mandarin-duck-parakeet-native-invasive-3771581', 'https://www.channelnewsasia.com/commentary/china-ev-electric-vehicle-batteries-market-europe-3773401', 'https://www.channelnewsasia.com/commentary/open-plan-office-noisy-colleague-effects-mood-productivity-tips-3773436', 'https://www.channelnewsasia.com/business/google-announces-new-bard-features-traffic-continues-lag-chatgpt-3782401', 'https://www.channelnewsasia.com/business/hitachi-seeks-eu-okay-thales-deal-asset-sales-france-germany-3780746', 'https://www.channelnewsasia.com/world/israeli-pm-netanyahu-urges-musk-fight-anti-semitism-3780616', 'https://www.channelnewsasia.com/business/portugals-telecom-watchdog-working-operators-bar-huawei-3780436', 'https://www.channelnewsasia.com/business/hyundai-motors-south-korea-union-accepts-12-wage-hike-deal-3780101', 'https://www.channelnewsasia.com/business/arm-holdings-options-draw-robust-trading-volume-shares-slide-3780331', 'https://www.channelnewsasia.com/wellness/dermal-fillers-blindness-vascular-occlusion-blood-vessel-blockage-3775666', 'https://www.channelnewsasia.com/dining/bacata-colombian-restaurant-singapore-3761551', 'https://www.channelnewsasia.com/experiences/luxury-resort-velaa-private-island-maldives-3778326', 'https://www.channelnewsasia.com/sport/spain-players-reiterate-strike-intention-despite-national-call-3780871', 'https://www.channelnewsasia.com/sport/spanish-court-throws-out-rubiales-pre-kiss-defamation-lawsuit-3780136', 'https://www.channelnewsasia.com/sport/iranians-give-ronaldo-rapturous-welcome-tehran-3780106', 'https://www.channelnewsasia.com/world/putin-xi-meet-october-russia-china-3782246', 'https://www.channelnewsasia.com/world/libya-floods-climate-change-conflict-derna-likely-research-3782936', 'https://www.channelnewsasia.com/business/china-files-appeal-against-wto-panel-report-us-steel-aluminium-tariffs-3783066', 'https://www.channelnewsasia.com/world/uk-says-no-evidence-political-bank-account-closures-3783016', 'https://www.channelnewsasia.com/asia/philippines-activists-freed-after-alleged-military-abduction-3782986', 'https://www.channelnewsasia.com/asia/india-will-receive-heavy-monsoon-rains-september-says-weather-chief-3782781', 'https://www.channelnewsasia.com/world/strained-ties-relations-between-india-canada-accusations-sikh-leader-murder-3782811', 'https://www.channelnewsasia.com/business/taiwans-tsmc-help-train-german-students-semiconductor-careers-3782786']\n"
          ]
        }
      ]
    },
    {
      "cell_type": "code",
      "source": [
        "# create description, datetime, and image link list\n",
        "article_genre = []\n",
        "article_description = []\n",
        "article_published_datetime = []\n",
        "article_image_link = []\n",
        "article_source = []\n",
        "\n",
        "# loop through the 'article_link' link, where each link redirects to an article\n",
        "for link in article_link:\n",
        "  # re-send the HTTP Get requests and parse the HTML content inside the article\n",
        "  response_link = requests.get(link, headers=headers)\n",
        "  soup_link = BeautifulSoup(response_link.text, \"html.parser\")\n",
        "\n",
        "  genre = soup_link.select('p.content-detail__category a')\n",
        "  paragraph_tag = soup_link.select('.text .text-long p')\n",
        "  published_datetime = soup_link.select('.article-publish')\n",
        "  image_link = soup_link.select('picture.image img')\n",
        "  source = soup_link.select('.source__block .source')\n",
        "\n",
        "  # check if all the elements are found on the page\n",
        "  if genre and paragraph_tag and published_datetime and image_link and source:\n",
        "    # extract the genre text and clean the genre by removing extra spaces and newline characters\n",
        "    genre_text = genre[0].get_text()\n",
        "    cleaned_genre = ' '.join(genre_text.split())\n",
        "\n",
        "    article_genre.append(cleaned_genre)\n",
        "\n",
        "    # extract the text content from the first p element\n",
        "    article_description.append(paragraph_tag[0].get_text())\n",
        "\n",
        "    # extract the published datetime text and clean the datetime by removing extra spaces and newline characters\n",
        "    datetime = published_datetime[0].get_text()\n",
        "    cleaned_datetime = ' '.join(datetime.split())\n",
        "\n",
        "    article_published_datetime.append(cleaned_datetime)\n",
        "\n",
        "    # extract the image link\n",
        "    article_image_link.append(image_link[4].attrs.get('src'))\n",
        "\n",
        "    # extract the source text, replace \"Source: \" string with \"\", and clean the source by removing extra spaces and newline characters\n",
        "    source_text = source[0].get_text()\n",
        "    source_only = source_text.replace(\"Source: \", \"\")\n",
        "    cleaned_source = ' '.join(source_only.split())\n",
        "\n",
        "    article_source.append(cleaned_source)\n",
        "\n",
        "  else:\n",
        "    # make missing values on the table when the above elements are not found\n",
        "    article_genre.append(None)\n",
        "    article_description.append(None)\n",
        "    article_published_datetime.append(None)\n",
        "    article_image_link.append(None)\n",
        "    article_source.append(None)\n",
        "\n",
        "print(article_genre)\n",
        "print(article_description)\n",
        "print(article_published_datetime)\n",
        "print(article_image_link)\n",
        "print(article_source)"
      ],
      "metadata": {
        "colab": {
          "base_uri": "https://localhost:8080/"
        },
        "id": "iBfVSjHY0kp6",
        "outputId": "172e0863-c404-40c0-afa7-49eeb7b0b5c9"
      },
      "execution_count": 197,
      "outputs": [
        {
          "output_type": "stream",
          "name": "stdout",
          "text": [
            "['World', 'World', 'Business', 'World', 'Asia', 'Asia', 'World', 'Business', 'World', 'World', 'Asia', None, 'Asia', 'Wellness', 'Asia', 'Singapore', 'Singapore', 'Singapore', 'World', 'Asia', 'World', 'Commentary', 'Business', 'Business', 'Asia', 'World', 'Asia', 'Sport', 'Asia', 'World', 'World', None, 'World', 'World', 'World', 'Singapore', 'Singapore', 'Singapore', 'Singapore', 'Singapore', 'Singapore', 'Commentary', 'Commentary', 'Commentary', 'Commentary', 'Commentary', 'Commentary', 'Business', 'Business', 'World', 'Business', 'Business', 'Business', 'Wellness', 'Dining', 'Experiences', 'Sport', 'Sport', 'Sport', 'World', 'World', 'Business', 'World', 'Asia', 'Asia', 'World', 'Business']\n",
            "[\"MOSCOW:\\xa0Russian President Vladimir Putin will travel to Beijing in October for talks with China's Xi Jinping, the Kremlin's chief's first known trip abroad since the International Criminal Court (ICC) issued an arrest warrant against him.\", 'PARIS: Climate change made torrential rains that triggered deadly flooding in Libya up to 50 times more likely, new research said on Tuesday (Sep 19), noting that conflict and poor dam maintenance turned extreme weather into a humanitarian disaster.', \"BEIJING: China has filed an appeal against a World Trade Organization panel report that recognised the US' actions on steel and aluminium as security measures, the Chinese commerce ministry said on Tuesday (Sep 19).\", 'LONDON: Britain on Tuesday (Sep 19) said it found no evidence of \"political\" bank account closures, according to a review launched after the controversial withdrawal of facilities for Nigel Farage, angering the arch Brexiteer.', 'MANILA: Two environmental activists allegedly abducted by the Philippine military more than two weeks ago were freed Tuesday (Sep 19), sparking jubilation among supporters who had campaigned for their release.', 'NEW DELHI: India will receive heavy monsoon rains at the tail end of the four-month season, the chief of the weather office said on Tuesday (Sep 19), bringing farmers succour after the driest August in more than a century hit some summer crops.', 'Accusations linking the Indian government to the killing of a Sikh separatist leader on Canadian soil have dealt a blow to diplomatic ties between Canada and India, but the tensions have been simmering for some time, said observers on Tuesday (Sep 19).\\xa0', \"TAICHUNG: Germany's Saxony state signed an agreement with Taiwanese chip giant TSMC on Tuesday (Sep 19) to train German students in an effort to meet the growing demand for workers in the semiconductor sector.\", 'Accusations linking the Indian government to the killing of a Sikh separatist leader on Canadian soil have dealt a blow to diplomatic ties between Canada and India, but the tensions have been simmering for some time, said observers on Tuesday (Sep 19).\\xa0', 'NEW DELHI: Tensions between Canada and India have reached new heights with dueling diplomatic expulsions and an allegation of Indian government involvement in the killing of a Sikh activist on Canadian soil.', \"China's former foreign minister Qin Gang, who was ousted from his position in July, had an extramarital affair while he was ambassador to the United States, the Wall Street Journal reported on Tuesday (Sep 19), citing people familiar with a briefing.\", None, 'BANGKOK: Jailed former Thai prime minister Thaksin Shinawatra underwent surgery last week, his daughter said Tuesday (Sep 19), as his family mulls seeking his release on parole.', 'What most people want out of dermal fillers is a fresher, more youthful mien – minus the need to go under the knife. A few strategically placed and minute injections of the gel-like substance under the skin may reduce the appearance of wrinkles, lift droopy eyelids and plump up facial volume loss caused by ageing. ', \"BANGKOK:\\xa0The Thai king's son has called for open discussion of the country's tough laws against insulting the royal family, a sensitive topic that has seen hundreds of people prosecuted in recent years.\", \"SINGAPORE: It was the procedure, not the product, that caused a woman to go blind after receiving dermal fillers during aesthetic treatment, the product's distributor said on Tuesday (Sep 19).\", \"SINGAPORE: A man who killed his toddler and hid the crime with his wife by burning the girl's body in a metal pot\\xa0was sentenced to 21-and-a-half years in jail and 18 strokes of the cane on Tuesday (Sep 19).\", \"SINGAPORE: Some passengers travelling on board Scoot flight TR134 from Singapore to Xi'an last week arrived in the Chinese city without their luggage.\", 'WASHINGTON: Debris from a stealth jet that went missing after the pilot ejected has been found, the US military said on Monday (Sep 18), after a day in which failure to track the US$80 million aircraft drew amazement and ridicule in equal measure.', \"BATAM, Indonesia: Units from the countries of ASEAN began their first-ever joint military drills in Indonesia's South Natuna Sea amid rising geopolitical tensions between major powers and protests against China's activities in the South China Sea.\", \"VIENNA/KYIV: In his years as the chief executive of one of Ukraine's biggest construction firms, Oleh Maiboroda kept rolls of dollar bills in a safe behind his desk.\", 'SINGAPORE: Recent events in Asia might seem unsettling. Beijing released a new “standard map” that featured a 10-dash line claim to the South China Sea; Chinese President Xi Jinping snubbed the Association of Southeast Asian Nations (ASEAN) summit in Jakarta; and China and Philippines had yet another confrontation at the contested Second Thomas Shoal.', 'Online platform X could introduce a monthly fee for all users, its owner Elon Musk said on Monday (Sep 18), citing the need to cut down on bots.', 'SHANGHAI:\\xa0US coffee behemoth Starbucks opened a US$220 million development outside Shanghai on Tuesday (Sep 19), a sign that established multinationals are still looking to China for growth despite its faltering post-COVID recovery.', \"SHANGHAI: COVID-19 wasn't kind to wedding planners in China, where marriages are traditionally elaborate, expensive affairs, but the industry estimated at almost US$500 billion is now facing a bigger threat: A plunge in the number of couples willing to tie the knot.\", 'As Ukraine pushes on with a gruelling counteroffensive to recapture territory more than 18 months after Russia’s invasion, observers say international support is crucial to sustaining Kyiv’s resistance and momentum.', 'NEW DELHI: India will receive heavy monsoon rains at the tail end of the four-month season, the chief of the weather office said on Tuesday (Sep 19), bringing farmers succour after the driest August in more than a century hit some summer crops.', 'HONG KONG: Hong Kong is one of the smaller Asian Games teams by population, but when it comes to fencing the city is a regional heavyweight with ambitious medal hopes.', 'BANGKOK: Thailand recorded 19 million foreign tourists in the January to Sep 17 period this year, the tourism ministry said on Tuesday (Sep 19).', 'HAWKESBURY RIVER, New South Wales: Oyster farmers in the Hawkesbury River in New South Wales have expanded into tourism to keep their industry alive.\\xa0', 'PARIS: Climate change made torrential rains that triggered deadly flooding in Libya up to 50 times more likely, new research said on Tuesday (Sep 19), noting that conflict and poor dam maintenance turned extreme weather into a humanitarian disaster.', None, \"SYDNEY: An intense spring heat wave sweeping across Australia's south-east raised the risks of bushfires, prompting authorities on Tuesday (Sep 19) to issue the first total fire ban in nearly three years for Sydney and shut down several schools.\", 'NEW YORK: US President Joe Biden, who is raising cash for his re-election campaign while visiting New York for meetings with world leaders, acknowledged concerns about his age on Monday (Sep 18) but said he was running because democracy was still at stake.', \"KYIV:\\xa0Kyiv said on Monday (Sep 18) its forces had broken through Russia's defensive lines near the war-battered town of Bakhmut in the slow-moving but high-stakes Ukrainian counteroffensive, ahead of President Volodymyr Zelenskyy addressing the UN General Assembly.\", 'SINGAPORE: Singapore Post (SingPost) will increase the postage rate for standard regular mail from 31 cents to 51 cents – an almost 65 per cent increase – amid rising costs and declining mail volume.', 'SINGAPORE: A new chief executive will take charge of the national water agency PUB, less than one year and four months after the appointment of the incumbent.', 'SINGAPORE: The public transport fare hike should be viewed in the context of even higher operating costs, analysts said, following the Public Transport Council’s (PTC) latest fare review exercise. ', \"SINGAPORE: The latest bus and train fare increases will more than double from last year's hike, which means adult commuters will pay 10 to 11 cents more per journey, the Public Transport Council (PTC) said on Monday (Sep 18).\", 'SINGAPORE: The Home Team departments and the Ministry of Home Affairs (MHA) headquarters have investigated 310 cases of workplace discrimination in the last five years, Law and Home Affairs Minister K Shanmugam said on Monday (Sep 18).', 'SINGAPORE:\\xa0Dr Chan Ying-Kit, who wrote an article for East Asia Forum, an Australia-based academic website that was issued with a correction direction from a Singapore government agency on Sep 13, has apologised for the distress it has caused.', 'LONDON: Being an only child is a “disease in itself”, according to 19th century psychologist Stanley G Hall. Even though Hall’s views and scholarly research methods have been questioned and criticised, only children’s reputation as spoiled, overprotected and lonely has persisted ever since.', 'SINGAPORE: In between bites of a sandwich you ordered to the office, you leisurely type out emails and pick up the occasional call. You decide to take a midday break to scroll through your YouTube feed.', 'GLASGOW: Holidays are making a comeback after several years of disruption caused by the COVID-19 pandemic. Nearly 4 billion passengers boarded international flights in 2022, up from fewer than 2 billion in 2020. Recent research suggests that people are likely to continue travelling more in 2023 and beyond.', 'SINGAPORE: When asked about the birds in Singapore, most people would probably have a list of nuisances they “need” to live with, from noisy chickens and infamous “uwu” birds\\xa0(the Asian koel) to pesky pigeons and mynas stalking hawker centres.', 'LONDON: At an event last week, a businessman suddenly pulled out his phone to show me his experience in a driverless taxi in downtown Beijing. In the video, a robotaxi impressively navigated a turn across several lanes of a busy road. ', 'BRISBANE: From colleagues chatting about their weekends or having intense phone conversations, to email alerts and loud tapping on keyboards, the evidence that open-plan offices take a toll on our well-being continues to mount. There’s a clear relationship between noise levels and physiological signs of stress such as heart rate.', \"Alphabet's Google said on Tuesday (Sep 19) that Bard, its generative artificial intelligence, will have the ability to fact-check its answers and analyse users' personal Google data as the tech giant scrambles to catch up to ChatGPT in popularity.\", \"BRUSSELS: Hitachi has offered to sell assets in France and Germany in a bid to address EU antitrust concerns about its proposed €1.7 billion (US$1.8 billion) buy of Thales' GTS railway signalling business, a Hitachi spokesperson said on Monday (Sep 18).\", \"WASHINGTON:\\xa0Israel's Prime Minister Benjamin Netanyahu on Monday (Sep 18) urged Elon Musk to fight anti-Semitism on his X platform as he sat down with the tech tycoon to discuss artificial intelligence.\", \"LISBON: Portugal's telecom watchdog said on Monday (Sep 18) it is working with operators to implement a high-level resolution which effectively bars Huawei's equipment from the country's 5G mobile networks, despite legal objections from the Chinese company.\", \"SEOUL: Hyundai Motor Co and a union representing its South Korean workforce on Monday (Sep 18) sealed a wage deal that will boost annual pay by about 12 per cent, avoiding a strike and production losses at the company's biggest manufacturing base.\", \"NEW YORK: Options on the newly listed shares of SoftBank's Arm Holdings, the year's biggest initial public offering, started trading on Monday, at a brisk pace, as a drop in the share price prompted investors to take guard.\", 'What most people want out of dermal fillers is a fresher, more youthful mien – minus the need to go under the knife. A few strategically placed and minute injections of the gel-like substance under the skin may reduce the appearance of wrinkles, lift droopy eyelids and plump up facial volume loss caused by ageing. ', 'Chef Fernando Arevalo readily acknowledges that the impression most people have of his native Colombia doesn’t go very far beyond coffee, Netflix drug lords and Shakira. And yet, the 38-year-old, who’s called Singapore home for the past 10 years, has opened a restaurant serving modern Colombian cuisine.', 'During the worst of the pandemic, while the rest of us sheltered in place at home, a handful of the world’s wealthiest individuals sought refuge on one delicious slice of paradise. On this opalescent island hidden away in the middle of the Indian Ocean, the privileged few shared space with little else but hermit crabs who spend all day scrambling drunkenly across blonde sands. ', \"BARCELONA: Striking Spanish internationals called up to the women's team reiterated their desire not to form part of the squad in a new blow for the shaken Spanish football federation (RFEF).\", 'MADRID: A Spanish court has dismissed a lawsuit by disgraced ex-soccer federation chief Luis Rubiales against coach Javier Clemente who had called Rubiales a \"dangerous and ambitious guy\" seeking \"to get rich\", qualifying his comments as free speech.', 'TEHRAN: Crowds of Iranian football fans gave Cristiano Ronaldo an excited welcome on Monday (Sep 18) as his Saudi team arrived in Tehran for the first home-and-away club tie since the two countries resumed diplomatic relations.', \"MOSCOW:\\xa0Russian President Vladimir Putin will travel to Beijing in October for talks with China's Xi Jinping, the Kremlin's chief's first known trip abroad since the International Criminal Court (ICC) issued an arrest warrant against him.\", 'PARIS: Climate change made torrential rains that triggered deadly flooding in Libya up to 50 times more likely, new research said on Tuesday (Sep 19), noting that conflict and poor dam maintenance turned extreme weather into a humanitarian disaster.', \"BEIJING: China has filed an appeal against a World Trade Organization panel report that recognised the US' actions on steel and aluminium as security measures, the Chinese commerce ministry said on Tuesday (Sep 19).\", 'LONDON: Britain on Tuesday (Sep 19) said it found no evidence of \"political\" bank account closures, according to a review launched after the controversial withdrawal of facilities for Nigel Farage, angering the arch Brexiteer.', 'MANILA: Two environmental activists allegedly abducted by the Philippine military more than two weeks ago were freed Tuesday (Sep 19), sparking jubilation among supporters who had campaigned for their release.', 'NEW DELHI: India will receive heavy monsoon rains at the tail end of the four-month season, the chief of the weather office said on Tuesday (Sep 19), bringing farmers succour after the driest August in more than a century hit some summer crops.', 'Accusations linking the Indian government to the killing of a Sikh separatist leader on Canadian soil have dealt a blow to diplomatic ties between Canada and India, but the tensions have been simmering for some time, said observers on Tuesday (Sep 19).\\xa0', \"TAICHUNG: Germany's Saxony state signed an agreement with Taiwanese chip giant TSMC on Tuesday (Sep 19) to train German students in an effort to meet the growing demand for workers in the semiconductor sector.\"]\n",
            "['19 Sep 2023 10:11PM (Updated: 19 Sep 2023 10:22PM)', '19 Sep 2023 10:08PM (Updated: 19 Sep 2023 10:09PM)', '19 Sep 2023 10:06PM', '19 Sep 2023 09:42PM (Updated: 19 Sep 2023 09:43PM)', '19 Sep 2023 09:26PM (Updated: 19 Sep 2023 09:42PM)', '19 Sep 2023 09:18PM', '19 Sep 2023 09:12PM', '19 Sep 2023 08:54PM', '19 Sep 2023 09:12PM', '19 Sep 2023 05:08PM', '19 Sep 2023 02:26PM (Updated: 19 Sep 2023 02:39PM)', None, '19 Sep 2023 07:13PM', '19 Sep 2023 07:16AM (Updated: 19 Sep 2023 10:18AM)', '19 Sep 2023 07:10PM (Updated: 19 Sep 2023 07:27PM)', '19 Sep 2023 06:21PM (Updated: 19 Sep 2023 06:24PM)', '19 Sep 2023 11:43AM (Updated: 19 Sep 2023 03:09PM)', '19 Sep 2023 06:07AM (Updated: 19 Sep 2023 11:31AM)', '19 Sep 2023 11:24AM (Updated: 19 Sep 2023 11:39AM)', '19 Sep 2023 05:19PM (Updated: 19 Sep 2023 05:35PM)', '19 Sep 2023 08:28PM', '19 Sep 2023 06:08AM (Updated: 19 Sep 2023 07:44AM)', '19 Sep 2023 05:16PM', '19 Sep 2023 05:11PM (Updated: 19 Sep 2023 05:28PM)', '19 Sep 2023 11:12AM (Updated: 19 Sep 2023 11:18AM)', '19 Sep 2023 05:26PM (Updated: 19 Sep 2023 06:01PM)', '19 Sep 2023 09:18PM', '19 Sep 2023 02:18PM', '19 Sep 2023 02:00PM', '19 Sep 2023 04:29PM (Updated: 19 Sep 2023 04:39PM)', '19 Sep 2023 10:08PM (Updated: 19 Sep 2023 10:09PM)', None, '19 Sep 2023 01:29PM (Updated: 19 Sep 2023 01:33PM)', '19 Sep 2023 09:49AM', '19 Sep 2023 07:52AM', '19 Sep 2023 10:37AM (Updated: 19 Sep 2023 03:59PM)', '19 Sep 2023 05:11PM', '18 Sep 2023 09:59PM (Updated: 19 Sep 2023 10:38AM)', '18 Sep 2023 05:00PM (Updated: 18 Sep 2023 11:00PM)', '19 Sep 2023 12:24PM (Updated: 19 Sep 2023 02:46PM)', '19 Sep 2023 09:16AM (Updated: 19 Sep 2023 11:30AM)', '19 Sep 2023 06:08AM', '18 Sep 2023 06:05AM (Updated: 18 Sep 2023 08:13AM)', '18 Sep 2023 06:06AM', '17 Sep 2023 06:00AM', '17 Sep 2023 06:00AM', '17 Sep 2023 06:00AM', '19 Sep 2023 06:11PM (Updated: 19 Sep 2023 06:13PM)', '19 Sep 2023 05:22AM', '19 Sep 2023 05:15AM (Updated: 19 Sep 2023 05:16AM)', '19 Sep 2023 04:55AM', '19 Sep 2023 02:43AM', '19 Sep 2023 02:11AM', '19 Sep 2023 07:16AM (Updated: 19 Sep 2023 10:18AM)', '19 Sep 2023 07:24AM', '19 Sep 2023 05:56AM', '19 Sep 2023 12:22PM', '19 Sep 2023 02:45AM', '19 Sep 2023 02:35AM', '19 Sep 2023 10:11PM (Updated: 19 Sep 2023 10:22PM)', '19 Sep 2023 10:08PM (Updated: 19 Sep 2023 10:09PM)', '19 Sep 2023 10:06PM', '19 Sep 2023 09:42PM (Updated: 19 Sep 2023 09:43PM)', '19 Sep 2023 09:26PM (Updated: 19 Sep 2023 09:42PM)', '19 Sep 2023 09:18PM', '19 Sep 2023 09:12PM', '19 Sep 2023 08:54PM']\n",
            "['https://onecms-res.cloudinary.com/image/upload/s--_jDSNcWB--/c_crop,h_450,w_800,x_0,y_31/c_fill,g_auto,h_468,w_830/fl_relative,g_south_east,l_one-cms:core:watermark:reuters,w_0.1/f_auto,q_auto/v1/one-cms/core/2023-09-19t090926z_1_lynxmpej8i098_rtroptp_3_russia-china-putin-xi.jpg?itok=SBB2D2-O', 'https://onecms-res.cloudinary.com/image/upload/s--yP5PboR1--/c_fill,g_auto,h_468,w_830/fl_relative,g_south_east,l_one-cms:core:watermark:afp_watermark,w_0.1/f_auto,q_auto/v1/one-cms/core/c3136304252a24c1329eaacd9418623e3270e681.jpg?itok=X10WIkj6', 'https://onecms-res.cloudinary.com/image/upload/s--PGfCQ-TB--/c_crop,h_450,w_800,x_0,y_11/c_fill,g_auto,h_468,w_830/fl_relative,g_south_east,l_one-cms:core:watermark:reuters,w_0.1/f_auto,q_auto/v1/one-cms/core/2023-09-19t134738z_1_lynxmpej8i0k3_rtroptp_3_china-economy-trade-eu.jpg?itok=oQNAZxYM', 'https://onecms-res.cloudinary.com/image/upload/s--iwvJ21CP--/c_fill,g_auto,h_468,w_830/fl_relative,g_south_east,l_one-cms:core:watermark:afp_watermark,w_0.1/f_auto,q_auto/v1/one-cms/core/bbe975b5f5a2014bfc8cd2dd092d53e74d1c57c7.jpg?itok=TkBCkfrR', 'https://onecms-res.cloudinary.com/image/upload/s--ou28OJ3B--/c_fill,g_auto,h_468,w_830/fl_relative,g_south_east,l_one-cms:core:watermark:afp_watermark,w_0.1/f_auto,q_auto/v1/one-cms/core/0b1527c4d9640705eeaa78c75201530fcd5cd8b0.jpg?itok=99XKlJH9', 'https://onecms-res.cloudinary.com/image/upload/s--1-81twiF--/c_fill,g_auto,h_468,w_830/fl_relative,g_south_east,l_one-cms:core:watermark:reuters,w_0.1/f_auto,q_auto/v1/one-cms/core/2023-09-19t121533z_1_lynxmpej8i0g4_rtroptp_3_asia-weather-india.jpg?itok=RZzbQMSs', 'https://onecms-res.cloudinary.com/image/upload/s--Yq-L9GFt--/c_fill,g_auto,h_468,w_830/fl_relative,g_south_east,l_one-cms:core:watermark:ap_data-1,w_0.1/f_auto,q_auto/v1/one-cms/core/canada_india_sikh_slain_67826.jpg?itok=1HwhgWee', 'https://onecms-res.cloudinary.com/image/upload/s--_hhSHucB--/c_crop,h_450,w_800,x_0,y_19/c_fill,g_auto,h_468,w_830/fl_relative,g_south_east,l_one-cms:core:watermark:reuters,w_0.1/f_auto,q_auto/v1/one-cms/core/2023-09-12t231248z_1_lynxmpej8b0zv_rtroptp_3_taiwan-tsmc.jpg?itok=FHRNEH2C', 'https://onecms-res.cloudinary.com/image/upload/s--Yq-L9GFt--/c_fill,g_auto,h_468,w_830/fl_relative,g_south_east,l_one-cms:core:watermark:ap_data-1,w_0.1/f_auto,q_auto/v1/one-cms/core/canada_india_sikh_slain_67826.jpg?itok=1HwhgWee', 'https://onecms-res.cloudinary.com/image/upload/s--CgrrkVt4--/c_crop,h_562,w_1000,x_0,y_103/c_fill,g_auto,h_468,w_830/fl_relative,g_south_east,l_one-cms:core:watermark:ap_data-1,w_0.1/f_auto,q_auto/v1/one-cms/core/canada_india_sikh_slain_43010.jpg?itok=Y56MVckm', 'https://onecms-res.cloudinary.com/image/upload/s--to6zxjYs--/c_fill,g_auto,h_468,w_830/fl_relative,g_south_east,l_one-cms:core:watermark:reuters,w_0.1/f_auto,q_auto/v1/one-cms/core/2023-09-19t054658z_2_lynxmpej8i04h_rtroptp_3_china-netherlands.jpg?itok=8w4Byw3w', None, 'https://onecms-res.cloudinary.com/image/upload/s--yIE6YAFG--/c_crop,h_432,w_768,x_0,y_0/c_fill,g_auto,h_468,w_830/fl_relative,g_south_east,l_one-cms:core:watermark:afp_watermark,w_0.1/f_auto,q_auto/v1/one-cms/core/de2d5ad38b858ea753a598ee68194ea8dce9738a.jpg?itok=wpRTxxLm', 'https://onecms-res.cloudinary.com/image/upload/s--Uv2NpKrl--/c_crop,h_1065,w_1420,x_90,y_-1/c_fill,g_auto,h_277,w_369/fl_relative,g_south_east,l_mediacorp:cna:watermark:2021-08:cna,w_0.1/f_auto,q_auto/v1/mediacorp/cna/image/2023/08/30/HEADER_1.JPG?itok=r0cQPdUD', 'https://onecms-res.cloudinary.com/image/upload/s--MyGQaKWF--/c_fill,g_auto,h_468,w_830/fl_relative,g_south_east,l_one-cms:core:watermark:reuters,w_0.1/f_auto,q_auto/v1/one-cms/core/2023-08-14t175755z_1_lynxmpej7d0nq_rtroptp_3_thailand-monarchy.jpg?itok=b4utMTLy', 'https://onecms-res.cloudinary.com/image/upload/s--ASzj4oP7--/c_crop,h_900,w_1600,x_0,y_88/c_fill,g_auto,h_468,w_830/f_auto,q_auto/v1/mediacorp/cna/image/2023/09/19/istock-1399541079.jpg?itok=eEQLzz24', 'https://onecms-res.cloudinary.com/image/upload/s--fSHbHbvV--/c_crop,h_841,w_1496,x_0,y_1/c_fill,g_auto,h_468,w_830/fl_relative,g_south_east,l_mediacorp:cna:watermark:2021-08:cna,w_0.1/f_auto,q_auto/v1/mediacorp/cna/image/2023/05/03/sya_7295.jpg?itok=UP2amYA1', 'https://onecms-res.cloudinary.com/image/upload/s--vWYPvMpN--/c_crop,h_900,w_1600,x_0,y_59/c_fill,g_auto,h_468,w_830/f_auto,q_auto/v1/mediacorp/cna/image/2023/09/18/istock-1406887736.jpg?itok=fqA33L9b', 'https://onecms-res.cloudinary.com/image/upload/s--3q_qbDNF--/c_fill,g_auto,h_468,w_830/fl_relative,g_south_east,l_one-cms:core:watermark:ap_data-1,w_0.1/f_auto,q_auto/v1/one-cms/core/france_paris_air_show_97113.jpg?itok=N1RLADFX', 'https://onecms-res.cloudinary.com/image/upload/s--YblPUuoQ--/c_crop,h_450,w_800,x_0,y_71/c_fill,g_auto,h_468,w_830/fl_relative,g_south_east,l_one-cms:core:watermark:reuters,w_0.1/f_auto,q_auto/v1/one-cms/core/2023-09-19t082512z_1_lynxmpej8i07z_rtroptp_3_asean-indonesia-drills.jpg?itok=GVbVAzBH', 'https://onecms-res.cloudinary.com/image/upload/s--ix-6Yccy--/c_crop,h_450,w_800,x_0,y_5/c_fill,g_auto,h_468,w_830/fl_relative,g_south_east,l_one-cms:core:watermark:reuters,w_0.1/f_auto,q_auto/v1/one-cms/core/2023-09-19t101007z_1_lynxmpej8i0ap_rtroptp_3_ukraine-crisis-corruption.jpg?itok=wt7MBnT3', 'https://onecms-res.cloudinary.com/image/upload/s--VvvwZu8q--/c_fill,g_auto,h_468,w_830/fl_relative,g_south_east,l_one-cms:core:watermark:ap_data-1,w_0.1/f_auto,q_auto/v1/one-cms/core/china_map_explainer_22686.jpg?itok=S2sc21Bp', 'https://onecms-res.cloudinary.com/image/upload/s--UwtAd8he--/c_crop,h_562,w_999,x_1,y_0/c_fill,g_auto,h_468,w_830/fl_relative,g_south_east,l_one-cms:core:watermark:ap_data-1,w_0.1/f_auto,q_auto/v1/one-cms/core/twitter_x_ftc_79533.jpg?itok=kWnRn5VX', 'https://onecms-res.cloudinary.com/image/upload/s--G2_fMrH6--/c_fill,g_auto,h_468,w_830/fl_relative,g_south_east,l_one-cms:core:watermark:reuters,w_0.1/f_auto,q_auto/v1/one-cms/core/2023-09-18t085606z_2_lynxmpej8h05u_rtroptp_3_starbucks-china.jpg?itok=w5qzYXpP', 'https://onecms-res.cloudinary.com/image/upload/s--Japd1sug--/c_crop,h_576,w_1024,x_0,y_106/c_fill,g_auto,h_468,w_830/fl_relative,g_south_east,l_one-cms:core:watermark:afp_watermark,w_0.1/f_auto,q_auto/v1/mediacorp/cna/image/2023/09/19/000_33fu4qy.jpg?itok=eICxTFaU', 'https://onecms-res.cloudinary.com/image/upload/s--9Ftd9W1---/c_fill,g_auto,h_468,w_830/fl_relative,g_south_east,l_one-cms:core:watermark:ap_data-1,w_0.1/f_auto,q_auto/v1/one-cms/core/germany_russia_ukraine_29149.jpg?itok=5zYvYbJm', 'https://onecms-res.cloudinary.com/image/upload/s--1-81twiF--/c_fill,g_auto,h_468,w_830/fl_relative,g_south_east,l_one-cms:core:watermark:reuters,w_0.1/f_auto,q_auto/v1/one-cms/core/2023-09-19t121533z_1_lynxmpej8i0g4_rtroptp_3_asia-weather-india.jpg?itok=RZzbQMSs', 'https://onecms-res.cloudinary.com/image/upload/s--9BO13oBg--/c_fill,g_auto,h_468,w_830/fl_relative,g_south_east,l_one-cms:core:watermark:afp_watermark,w_0.1/f_auto,q_auto/v1/one-cms/core/302ab4af94254705ed158380ed41e9dc94dffc58.jpg?itok=rZp8Be5V', 'https://onecms-res.cloudinary.com/image/upload/s--vSk5cbb---/c_crop,h_576,w_1024,x_0,y_0/c_fill,g_auto,h_468,w_830/f_auto,q_auto/v1/mediacorp/cna/image/2023/09/19/000_33uu6pm.jpg?itok=A0yqKq2i', 'https://onecms-res.cloudinary.com/image/upload/s--soki7oNo--/c_fill,g_auto,h_468,w_830/fl_relative,g_south_east,l_mediacorp:cna:watermark:2021-08:cna,w_0.1/f_auto,q_auto/v1/mediacorp/cna/image/2023/09/19/screenshot_624.png?itok=A6aBJ8TK', 'https://onecms-res.cloudinary.com/image/upload/s--yP5PboR1--/c_fill,g_auto,h_468,w_830/fl_relative,g_south_east,l_one-cms:core:watermark:afp_watermark,w_0.1/f_auto,q_auto/v1/one-cms/core/c3136304252a24c1329eaacd9418623e3270e681.jpg?itok=X10WIkj6', None, 'https://onecms-res.cloudinary.com/image/upload/s--Sg8hNTcT--/c_fill,g_auto,h_468,w_830/fl_relative,g_south_east,l_one-cms:core:watermark:ap_data-1,w_0.1/f_auto,q_auto/v1/one-cms/core/australia_smoke_haze_32377.jpg?itok=0_GsqTtW', 'https://onecms-res.cloudinary.com/image/upload/s--U8Qx4gme--/c_crop,h_450,w_800,x_0,y_0/c_fill,g_auto,h_468,w_830/fl_relative,g_south_east,l_one-cms:core:watermark:reuters,w_0.1/f_auto,q_auto/v1/one-cms/core/2023-09-19t005915z_1_lynxmpej8i00u_rtroptp_3_usa-biden.jpg?itok=Dl5GxBD3', 'https://onecms-res.cloudinary.com/image/upload/s--rrPle2I3--/c_fill,g_auto,h_468,w_830/fl_relative,g_south_east,l_one-cms:core:watermark:afp_watermark,w_0.1/f_auto,q_auto/v1/one-cms/core/7c648af9d0a091ae025ca720cfbc8a9a19a7a894.jpg?itok=jMlzB3Yo', 'https://onecms-res.cloudinary.com/image/upload/s--JUM7MG4---/c_fill,g_auto,h_468,w_830/f_auto,q_auto/v1/mediacorp/cna/image/2023/09/19/singapore_stamps_file_istock.jpg?itok=OQLSDWg6', 'https://onecms-res.cloudinary.com/image/upload/s--UkEiSOZI--/c_fill,g_auto,h_468,w_830/f_auto,q_auto/v1/mediacorp/cna/image/2023/09/19/incollage_20230919_160814537.jpg?itok=3ipsZGit', 'https://onecms-res.cloudinary.com/image/upload/s---gJqvJLP--/c_fill,g_auto,h_468,w_830/f_auto,q_auto/public-transport-bus---953920.png?itok=RdeR2Bv-', 'https://onecms-res.cloudinary.com/image/upload/s--BUv89s-P--/c_crop,h_576,w_1024,x_0,y_0/c_fill,g_auto,h_468,w_830/fl_relative,g_south_east,l_one-cms:core:watermark:afp_watermark,w_0.1/f_auto,q_auto/v1/mediacorp/cna/image/2022/08/15/000_9r32bd.jpg?itok=aiMC4hvA', 'https://onecms-res.cloudinary.com/image/upload/s---hLdZsYz--/c_crop,h_478,w_850,x_109,y_0/c_fill,g_auto,h_468,w_830/f_auto,q_auto/mha-building-singapore.jpg?itok=nQXXaEf5', 'https://onecms-res.cloudinary.com/image/upload/s--25jFgEFs--/c_crop,h_466,w_830,x_0,y_0/c_fill,g_auto,h_468,w_830/f_auto,q_auto/v1/mediacorp/cna/image/2023/09/19/20230918_east_asia_forum_pofma.jpg?itok=Pt3TANRA', 'https://onecms-res.cloudinary.com/image/upload/s--tQJZlvo8--/c_fill,g_auto,h_468,w_830/f_auto,q_auto/v1/mediacorp/cna/image/2022/10/07/istock-1405855218.jpg?itok=RrkWyB1n', 'https://onecms-res.cloudinary.com/image/upload/s--o6Bz2VWh--/c_fill,g_auto,h_468,w_830/f_auto,q_auto/v1/mediacorp/cna/image/2023/09/17/istock-610672358.jpg?itok=e9dkz85J', 'https://onecms-res.cloudinary.com/image/upload/s--D-jnyKVD--/c_fill,g_auto,h_468,w_830/fl_relative,g_south_east,l_one-cms:core:watermark:ap_data-1,w_0.1/f_auto,q_auto/v1/one-cms/core/britain_weather_92214.jpg?itok=kboj8PAJ', 'https://onecms-res.cloudinary.com/image/upload/s--ZM1Od-YX--/c_fill,g_auto,h_468,w_830/f_auto,q_auto/v1/mediacorp/cna/image/2023/09/15/nonnativebirds.jpg?itok=Y3UT2wo1', 'https://onecms-res.cloudinary.com/image/upload/s--cFurLfOI--/c_fill,g_auto,h_468,w_830/fl_relative,g_south_east,l_one-cms:core:watermark:ap_data-1,w_0.1/f_auto,q_auto/v1/one-cms/core/germany_iaa_motor_show_21713.jpg?itok=aciwVaxE', 'https://onecms-res.cloudinary.com/image/upload/s--lMX4Uj3G--/c_fill,g_auto,h_468,w_830/f_auto,q_auto/v1/mediacorp/cna/image/2023/06/14/istock-1476724606.jpg?itok=ybaF5QNY', 'https://onecms-res.cloudinary.com/image/upload/s--KLZbXUKw--/c_crop,h_450,w_800,x_0,y_30/c_fill,g_auto,h_468,w_830/fl_relative,g_south_east,l_one-cms:core:watermark:reuters,w_0.1/f_auto,q_auto/v1/one-cms/core/2023-09-19t100545z_1_lynxmpej8i0ak_rtroptp_3_tech-ai-bard.jpg?itok=53S-GLtW', 'https://onecms-res.cloudinary.com/image/upload/s--v6dDTxMv--/c_fill,g_auto,h_468,w_830/fl_relative,g_south_east,l_one-cms:core:watermark:reuters,w_0.1/f_auto,q_auto/v1/one-cms/core/2023-09-19t083621z_2_lynxmpej8h0qd_rtroptp_3_thales-m-a-hitachi-eu.jpg?itok=z1ZpZzwU', 'https://onecms-res.cloudinary.com/image/upload/s--T3IOO7HD--/c_fill,g_auto,h_468,w_830/fl_relative,g_south_east,l_one-cms:core:watermark:afp_watermark,w_0.1/f_auto,q_auto/v1/one-cms/core/2d0d709e3f2db16482a68b52cc90b7366dfb6e25.jpg?itok=fw2iUrFZ', 'https://onecms-res.cloudinary.com/image/upload/s--N_0XoxBh--/c_fill,g_auto,h_468,w_830/fl_relative,g_south_east,l_one-cms:core:watermark:reuters,w_0.1/f_auto,q_auto/v1/one-cms/core/2023-09-18t174232z_1_lynxmpej8h0ms_rtroptp_3_france-tech.jpg?itok=T7fLrwGZ', 'https://onecms-res.cloudinary.com/image/upload/s--g12LHwKm--/c_crop,h_450,w_800,x_0,y_60/c_fill,g_auto,h_468,w_830/fl_relative,g_south_east,l_one-cms:core:watermark:reuters,w_0.1/f_auto,q_auto/v1/one-cms/core/2023-09-18t162313z_4_lynxmpej8h0if_rtroptp_3_usa-hyundai-motor.jpg?itok=Kik8m0FL', 'https://onecms-res.cloudinary.com/image/upload/s--H0nRFMWZ--/c_fill,g_auto,h_468,w_830/fl_relative,g_south_east,l_one-cms:core:watermark:reuters,w_0.1/f_auto,q_auto/v1/one-cms/core/2023-09-18t165538z_1_lynxmpej8h0lk_rtroptp_3_arm-ipo-options.jpg?itok=tiw1UOvn', 'https://onecms-res.cloudinary.com/image/upload/s--Uv2NpKrl--/c_crop,h_1065,w_1420,x_90,y_-1/c_fill,g_auto,h_277,w_369/fl_relative,g_south_east,l_mediacorp:cna:watermark:2021-08:cna,w_0.1/f_auto,q_auto/v1/mediacorp/cna/image/2023/08/30/HEADER_1.JPG?itok=r0cQPdUD', 'https://onecms-res.cloudinary.com/image/upload/s--Uv2NpKrl--/c_crop,h_1065,w_1420,x_90,y_-1/c_fill,g_auto,h_277,w_369/fl_relative,g_south_east,l_mediacorp:cna:watermark:2021-08:cna,w_0.1/f_auto,q_auto/v1/mediacorp/cna/image/2023/08/30/HEADER_1.JPG?itok=r0cQPdUD', 'https://onecms-res.cloudinary.com/image/upload/s--tAu_1tbv--/c_crop,h_818,w_1090,x_201,y_0/c_fill,g_auto,h_277,w_369/f_auto,q_auto/v1/mediacorp/cna/image/2023/09/12/hero-ulysee-nardin-freak-x-blue_hour_glass.jpg?itok=OPxzLSU0', 'https://onecms-res.cloudinary.com/image/upload/s--73B4pBfm--/c_fill,g_auto,h_468,w_830/fl_relative,g_south_east,l_one-cms:core:watermark:afp_watermark,w_0.1/f_auto,q_auto/v1/one-cms/core/c126968d4929150d04f91d2ae6fc794de03063ee.jpg?itok=RC7TbV2z', 'https://onecms-res.cloudinary.com/image/upload/s--onZyMj9g--/c_fill,g_auto,h_468,w_830/fl_relative,g_south_east,l_one-cms:core:watermark:reuters,w_0.1/f_auto,q_auto/v1/one-cms/core/2023-09-18t151856z_2_lynxmpej8h0im_rtroptp_3_soccer-worldcup-kiss.jpg?itok=CzheRN32', 'https://onecms-res.cloudinary.com/image/upload/s--nu1oBBJO--/c_fill,g_auto,h_468,w_830/fl_relative,g_south_east,l_one-cms:core:watermark:afp_watermark,w_0.1/f_auto,q_auto/v1/one-cms/core/c315fbc9e69b8b86d045272f0f2aa95a9663ed07.jpg?itok=4y9ArhLs', 'https://onecms-res.cloudinary.com/image/upload/s--_jDSNcWB--/c_crop,h_450,w_800,x_0,y_31/c_fill,g_auto,h_468,w_830/fl_relative,g_south_east,l_one-cms:core:watermark:reuters,w_0.1/f_auto,q_auto/v1/one-cms/core/2023-09-19t090926z_1_lynxmpej8i098_rtroptp_3_russia-china-putin-xi.jpg?itok=SBB2D2-O', 'https://onecms-res.cloudinary.com/image/upload/s--yP5PboR1--/c_fill,g_auto,h_468,w_830/fl_relative,g_south_east,l_one-cms:core:watermark:afp_watermark,w_0.1/f_auto,q_auto/v1/one-cms/core/c3136304252a24c1329eaacd9418623e3270e681.jpg?itok=X10WIkj6', 'https://onecms-res.cloudinary.com/image/upload/s--PGfCQ-TB--/c_crop,h_450,w_800,x_0,y_11/c_fill,g_auto,h_468,w_830/fl_relative,g_south_east,l_one-cms:core:watermark:reuters,w_0.1/f_auto,q_auto/v1/one-cms/core/2023-09-19t134738z_1_lynxmpej8i0k3_rtroptp_3_china-economy-trade-eu.jpg?itok=oQNAZxYM', 'https://onecms-res.cloudinary.com/image/upload/s--iwvJ21CP--/c_fill,g_auto,h_468,w_830/fl_relative,g_south_east,l_one-cms:core:watermark:afp_watermark,w_0.1/f_auto,q_auto/v1/one-cms/core/bbe975b5f5a2014bfc8cd2dd092d53e74d1c57c7.jpg?itok=TkBCkfrR', 'https://onecms-res.cloudinary.com/image/upload/s--ou28OJ3B--/c_fill,g_auto,h_468,w_830/fl_relative,g_south_east,l_one-cms:core:watermark:afp_watermark,w_0.1/f_auto,q_auto/v1/one-cms/core/0b1527c4d9640705eeaa78c75201530fcd5cd8b0.jpg?itok=99XKlJH9', 'https://onecms-res.cloudinary.com/image/upload/s--1-81twiF--/c_fill,g_auto,h_468,w_830/fl_relative,g_south_east,l_one-cms:core:watermark:reuters,w_0.1/f_auto,q_auto/v1/one-cms/core/2023-09-19t121533z_1_lynxmpej8i0g4_rtroptp_3_asia-weather-india.jpg?itok=RZzbQMSs', 'https://onecms-res.cloudinary.com/image/upload/s--Yq-L9GFt--/c_fill,g_auto,h_468,w_830/fl_relative,g_south_east,l_one-cms:core:watermark:ap_data-1,w_0.1/f_auto,q_auto/v1/one-cms/core/canada_india_sikh_slain_67826.jpg?itok=1HwhgWee', 'https://onecms-res.cloudinary.com/image/upload/s--_hhSHucB--/c_crop,h_450,w_800,x_0,y_19/c_fill,g_auto,h_468,w_830/fl_relative,g_south_east,l_one-cms:core:watermark:reuters,w_0.1/f_auto,q_auto/v1/one-cms/core/2023-09-12t231248z_1_lynxmpej8b0zv_rtroptp_3_taiwan-tsmc.jpg?itok=FHRNEH2C']\n",
            "['Reuters/nh', 'AFP/ga', 'Reuters/jo', 'AFP/nh', 'AFP/nh', 'Reuters/ga', 'CNA/ca', 'AFP/rc', 'CNA/ca', 'AP/jo', 'Reuters/lk', None, 'AFP/jo', 'CNA/bk', 'AFP/yb', 'CNA/rc(ac)', 'CNA/ll(gs)', 'CNA/kg(gs)', 'AFP/wk(lk)', 'Reuters/jo', 'Reuters/rc', 'CNA/ch', 'AFP/fh', 'AFP/ga', 'Reuters/lk', 'CNA/dn(ja)', 'Reuters/ga', 'AFP/lk', 'Reuters/gs', 'CNA/ca(ja)', 'AFP/ga', None, 'Reuters/lk', 'Reuters/wk', 'AFP/ec', 'CNA/fh(rj)', 'CNA/ga(ac)', 'CNA/an(sn)', 'CNA/wt(ac)', 'CNA/lt(mi)', 'TODAY/cm', 'Others/el', 'CNA/el', 'Others/ch', 'CNA/ch', 'Financial Times/ch', 'Others/el', 'Reuters', 'Reuters/ec', 'AFP/ec', 'Reuters/ec', 'Reuters/ec', 'Reuters/ec', 'CNA/bk', 'CNA/my', 'CNA/bt', 'AFP/fh', 'Reuters/ec', 'AFP/ec', 'Reuters/nh', 'AFP/ga', 'Reuters/jo', 'AFP/nh', 'AFP/nh', 'Reuters/ga', 'CNA/ca', 'AFP/rc']\n"
          ]
        }
      ]
    },
    {
      "cell_type": "markdown",
      "source": [
        "# Step 5. Save as DataFrame and store it as CSV for further analysis"
      ],
      "metadata": {
        "id": "uLt8bCcUmETC"
      }
    },
    {
      "cell_type": "code",
      "source": [
        "print(len(article_title))\n",
        "print(len(article_published_datetime))\n",
        "print(len(article_genre))\n",
        "print(len(article_description))\n",
        "print(len(article_image_link))\n",
        "print(len(article_source))\n",
        "print(len(article_link))"
      ],
      "metadata": {
        "colab": {
          "base_uri": "https://localhost:8080/"
        },
        "id": "SjPkM475nmhR",
        "outputId": "6fb674f0-bbb8-4e39-b623-7f7e41503f0b"
      },
      "execution_count": 198,
      "outputs": [
        {
          "output_type": "stream",
          "name": "stdout",
          "text": [
            "67\n",
            "67\n",
            "67\n",
            "67\n",
            "67\n",
            "67\n",
            "67\n"
          ]
        }
      ]
    },
    {
      "cell_type": "code",
      "source": [
        "df = pd.DataFrame(\n",
        "    {'Article Title': article_title,\n",
        "     'Genre' : article_genre,\n",
        "     'Published Datetime': article_published_datetime,\n",
        "     'Description': article_description,\n",
        "     'Image Link' : article_image_link,\n",
        "     'Source' : article_source,\n",
        "     'Article Link': article_link\n",
        "     }\n",
        ")\n",
        "\n",
        "print(df.head())\n",
        "\n",
        "df.to_csv('cnaarticle.csv', index=False)"
      ],
      "metadata": {
        "colab": {
          "base_uri": "https://localhost:8080/"
        },
        "id": "A-ssFXnxJUVl",
        "outputId": "9a61f7c0-c011-4e5f-aec3-56d093022b8a"
      },
      "execution_count": 199,
      "outputs": [
        {
          "output_type": "stream",
          "name": "stdout",
          "text": [
            "                                       Article Title     Genre  \\\n",
            "0  Putin and Xi to meet in Beijing in October, Ru...     World   \n",
            "1  Climate change, conflict made Libya deluge mor...     World   \n",
            "2  China files appeal against WTO panel report on...  Business   \n",
            "3  UK says no evidence of political bank account ...     World   \n",
            "4  Philippines activists freed after alleged mili...      Asia   \n",
            "\n",
            "                                  Published Datetime  \\\n",
            "0  19 Sep 2023 10:11PM (Updated: 19 Sep 2023 10:2...   \n",
            "1  19 Sep 2023 10:08PM (Updated: 19 Sep 2023 10:0...   \n",
            "2                                19 Sep 2023 10:06PM   \n",
            "3  19 Sep 2023 09:42PM (Updated: 19 Sep 2023 09:4...   \n",
            "4  19 Sep 2023 09:26PM (Updated: 19 Sep 2023 09:4...   \n",
            "\n",
            "                                         Description  \\\n",
            "0  MOSCOW: Russian President Vladimir Putin will ...   \n",
            "1  PARIS: Climate change made torrential rains th...   \n",
            "2  BEIJING: China has filed an appeal against a W...   \n",
            "3  LONDON: Britain on Tuesday (Sep 19) said it fo...   \n",
            "4  MANILA: Two environmental activists allegedly ...   \n",
            "\n",
            "                                          Image Link      Source  \\\n",
            "0  https://onecms-res.cloudinary.com/image/upload...  Reuters/nh   \n",
            "1  https://onecms-res.cloudinary.com/image/upload...      AFP/ga   \n",
            "2  https://onecms-res.cloudinary.com/image/upload...  Reuters/jo   \n",
            "3  https://onecms-res.cloudinary.com/image/upload...      AFP/nh   \n",
            "4  https://onecms-res.cloudinary.com/image/upload...      AFP/nh   \n",
            "\n",
            "                                        Article Link  \n",
            "0  https://www.channelnewsasia.com/world/putin-xi...  \n",
            "1  https://www.channelnewsasia.com/world/libya-fl...  \n",
            "2  https://www.channelnewsasia.com/business/china...  \n",
            "3  https://www.channelnewsasia.com/world/uk-says-...  \n",
            "4  https://www.channelnewsasia.com/asia/philippin...  \n"
          ]
        }
      ]
    }
  ]
}